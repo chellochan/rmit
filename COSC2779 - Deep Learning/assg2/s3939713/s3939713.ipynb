{
 "cells": [
  {
   "cell_type": "markdown",
   "source": [
    "---\n",
    "\n",
    "<h1><div align=\"center\"><font color='blue'>  Wing Hang CHAN (s3939713) </font></div></h1>\n",
    "<h1><div align=\"center\"><font color='blue'> COSC 2779 | Deep Learning  </font></div></h1>\n",
    "<h2><div align=\"center\"> <font color='blue'> Assignment 2 <strong>Sequence Processing with Deep learning<strong> </font></div></h2>\n",
    "<br>\n",
    "\n",
    "---"
   ],
   "metadata": {
    "collapsed": false
   },
   "id": "8a46bf854ead6807"
  },
  {
   "cell_type": "markdown",
   "source": [
    "# Preparation\n",
    "## Google Colab Installation libraries"
   ],
   "metadata": {
    "collapsed": false
   },
   "id": "375db08e3ab76783"
  },
  {
   "cell_type": "code",
   "execution_count": 1,
   "outputs": [],
   "source": [
    "# !pip install fasttext -q\n",
    "# !pip install nlpaug -q\n",
    "# !pip install transformers -q"
   ],
   "metadata": {
    "collapsed": false,
    "ExecuteTime": {
     "end_time": "2023-10-07T17:45:20.403529Z",
     "start_time": "2023-10-07T17:45:20.027048Z"
    }
   },
   "id": "f0d4ebb527656a23"
  },
  {
   "cell_type": "markdown",
   "source": [
    "## Import Libraries"
   ],
   "metadata": {
    "collapsed": false
   },
   "id": "9909865b2325f91a"
  },
  {
   "cell_type": "code",
   "execution_count": 80,
   "id": "initial_id",
   "metadata": {
    "collapsed": true,
    "ExecuteTime": {
     "end_time": "2023-10-08T16:07:15.739802Z",
     "start_time": "2023-10-08T16:07:15.709949Z"
    }
   },
   "outputs": [],
   "source": [
    "# import fasttext.util\n",
    "# import nlpaug.augmenter.word as naw\n",
    "import numpy as np\n",
    "import pandas as pd\n",
    "import re\n",
    "import seaborn as sns\n",
    "import tensorflow as tf\n",
    "import tensorflow.keras as keras\n",
    "\n",
    "from itertools import cycle\n",
    "from matplotlib import pyplot as plt\n",
    "from nltk.tokenize import TweetTokenizer\n",
    "\n",
    "from sklearn.preprocessing import OneHotEncoder\n",
    "from sklearn.model_selection import train_test_split\n",
    "\n",
    "from tensorflow.keras.models import Model\n",
    "from tensorflow.keras.layers import Embedding, LSTM, Dense, GlobalMaxPooling1D, GlobalMaxPooling2D, Bidirectional, Flatten, Input, GlobalMaxPooling1D\n",
    "from tensorflow.keras.layers import concatenate\n",
    "from tensorflow.keras.models import Sequential\n",
    "from tensorflow.keras.preprocessing.text import Tokenizer\n",
    "from tensorflow.keras.preprocessing.sequence import pad_sequences\n"
   ]
  },
  {
   "cell_type": "markdown",
   "source": [
    "# Reading Dataset"
   ],
   "metadata": {
    "collapsed": false
   },
   "id": "3fcfc3bf989ced7e"
  },
  {
   "cell_type": "code",
   "execution_count": 3,
   "outputs": [],
   "source": [
    "# from google.colab import drive\n",
    "# drive.mount('/content/drive')"
   ],
   "metadata": {
    "collapsed": false,
    "ExecuteTime": {
     "end_time": "2023-10-07T17:45:22.578204Z",
     "start_time": "2023-10-07T17:45:22.573248Z"
    }
   },
   "id": "b8da851e36079053"
  },
  {
   "cell_type": "code",
   "execution_count": 4,
   "outputs": [],
   "source": [
    "# !cp /content/drive/'My Drive'/Deeplearning/assg2/train.csv .\n",
    "# !cp /content/drive/'My Drive'/Deeplearning/assg2/test.csv .\n",
    "# !ls"
   ],
   "metadata": {
    "collapsed": false,
    "ExecuteTime": {
     "end_time": "2023-10-07T17:45:22.588653Z",
     "start_time": "2023-10-07T17:45:22.576413Z"
    }
   },
   "id": "418820eab198a6b6"
  },
  {
   "cell_type": "code",
   "execution_count": 5,
   "outputs": [
    {
     "data": {
      "text/plain": "                                               Tweet           Target  \\\n0  @tedcruz And, #HandOverTheServer she wiped cle...  Hillary Clinton   \n1  Hillary is our best choice if we truly want to...  Hillary Clinton   \n2  @TheView I think our country is ready for a fe...  Hillary Clinton   \n3  I just gave an unhealthy amount of my hard-ear...  Hillary Clinton   \n4  @PortiaABoulger Thank you for adding me to you...  Hillary Clinton   \n\n    Stance                                    Opinion Towards Sentiment  \n0  AGAINST  1.  The tweet explicitly expresses opinion abo...       neg  \n1    FAVOR  1.  The tweet explicitly expresses opinion abo...       pos  \n2  AGAINST  1.  The tweet explicitly expresses opinion abo...       neg  \n3  AGAINST  1.  The tweet explicitly expresses opinion abo...       neg  \n4     NONE  3.  The tweet is not explicitly expressing opi...       pos  ",
      "text/html": "<div>\n<style scoped>\n    .dataframe tbody tr th:only-of-type {\n        vertical-align: middle;\n    }\n\n    .dataframe tbody tr th {\n        vertical-align: top;\n    }\n\n    .dataframe thead th {\n        text-align: right;\n    }\n</style>\n<table border=\"1\" class=\"dataframe\">\n  <thead>\n    <tr style=\"text-align: right;\">\n      <th></th>\n      <th>Tweet</th>\n      <th>Target</th>\n      <th>Stance</th>\n      <th>Opinion Towards</th>\n      <th>Sentiment</th>\n    </tr>\n  </thead>\n  <tbody>\n    <tr>\n      <th>0</th>\n      <td>@tedcruz And, #HandOverTheServer she wiped cle...</td>\n      <td>Hillary Clinton</td>\n      <td>AGAINST</td>\n      <td>1.  The tweet explicitly expresses opinion abo...</td>\n      <td>neg</td>\n    </tr>\n    <tr>\n      <th>1</th>\n      <td>Hillary is our best choice if we truly want to...</td>\n      <td>Hillary Clinton</td>\n      <td>FAVOR</td>\n      <td>1.  The tweet explicitly expresses opinion abo...</td>\n      <td>pos</td>\n    </tr>\n    <tr>\n      <th>2</th>\n      <td>@TheView I think our country is ready for a fe...</td>\n      <td>Hillary Clinton</td>\n      <td>AGAINST</td>\n      <td>1.  The tweet explicitly expresses opinion abo...</td>\n      <td>neg</td>\n    </tr>\n    <tr>\n      <th>3</th>\n      <td>I just gave an unhealthy amount of my hard-ear...</td>\n      <td>Hillary Clinton</td>\n      <td>AGAINST</td>\n      <td>1.  The tweet explicitly expresses opinion abo...</td>\n      <td>neg</td>\n    </tr>\n    <tr>\n      <th>4</th>\n      <td>@PortiaABoulger Thank you for adding me to you...</td>\n      <td>Hillary Clinton</td>\n      <td>NONE</td>\n      <td>3.  The tweet is not explicitly expressing opi...</td>\n      <td>pos</td>\n    </tr>\n  </tbody>\n</table>\n</div>"
     },
     "execution_count": 5,
     "metadata": {},
     "output_type": "execute_result"
    }
   ],
   "source": [
    "df = pd.read_csv(\"train.csv\", encoding=\"unicode_escape\", lineterminator='\\r')\n",
    "df.head()"
   ],
   "metadata": {
    "collapsed": false,
    "ExecuteTime": {
     "end_time": "2023-10-07T17:45:22.604185Z",
     "start_time": "2023-10-07T17:45:22.580138Z"
    }
   },
   "id": "f8f767144c4dd059"
  },
  {
   "cell_type": "code",
   "execution_count": 6,
   "outputs": [
    {
     "data": {
      "text/plain": "                                               Tweet   Target   Stance  \\\n0  He who exalts himself shall      be humbled; a...  Atheism  AGAINST   \n1  RT @prayerbullets: I remove Nehushtan -previou...  Atheism  AGAINST   \n2  @Brainman365 @heidtjj @BenjaminLives I have so...  Atheism  AGAINST   \n3  #God is utterly powerless without Human interv...  Atheism  AGAINST   \n4  @David_Cameron   Miracles of #Multiculturalism...  Atheism  AGAINST   \n\n                                     Opinion Towards Sentiment  \n0  1.  The tweet explicitly expresses opinion abo...       pos  \n1  1.  The tweet explicitly expresses opinion abo...     other  \n2  1.  The tweet explicitly expresses opinion abo...       pos  \n3  1.  The tweet explicitly expresses opinion abo...       neg  \n4  2. The tweet does NOT expresses opinion about ...       neg  ",
      "text/html": "<div>\n<style scoped>\n    .dataframe tbody tr th:only-of-type {\n        vertical-align: middle;\n    }\n\n    .dataframe tbody tr th {\n        vertical-align: top;\n    }\n\n    .dataframe thead th {\n        text-align: right;\n    }\n</style>\n<table border=\"1\" class=\"dataframe\">\n  <thead>\n    <tr style=\"text-align: right;\">\n      <th></th>\n      <th>Tweet</th>\n      <th>Target</th>\n      <th>Stance</th>\n      <th>Opinion Towards</th>\n      <th>Sentiment</th>\n    </tr>\n  </thead>\n  <tbody>\n    <tr>\n      <th>0</th>\n      <td>He who exalts himself shall      be humbled; a...</td>\n      <td>Atheism</td>\n      <td>AGAINST</td>\n      <td>1.  The tweet explicitly expresses opinion abo...</td>\n      <td>pos</td>\n    </tr>\n    <tr>\n      <th>1</th>\n      <td>RT @prayerbullets: I remove Nehushtan -previou...</td>\n      <td>Atheism</td>\n      <td>AGAINST</td>\n      <td>1.  The tweet explicitly expresses opinion abo...</td>\n      <td>other</td>\n    </tr>\n    <tr>\n      <th>2</th>\n      <td>@Brainman365 @heidtjj @BenjaminLives I have so...</td>\n      <td>Atheism</td>\n      <td>AGAINST</td>\n      <td>1.  The tweet explicitly expresses opinion abo...</td>\n      <td>pos</td>\n    </tr>\n    <tr>\n      <th>3</th>\n      <td>#God is utterly powerless without Human interv...</td>\n      <td>Atheism</td>\n      <td>AGAINST</td>\n      <td>1.  The tweet explicitly expresses opinion abo...</td>\n      <td>neg</td>\n    </tr>\n    <tr>\n      <th>4</th>\n      <td>@David_Cameron   Miracles of #Multiculturalism...</td>\n      <td>Atheism</td>\n      <td>AGAINST</td>\n      <td>2. The tweet does NOT expresses opinion about ...</td>\n      <td>neg</td>\n    </tr>\n  </tbody>\n</table>\n</div>"
     },
     "execution_count": 6,
     "metadata": {},
     "output_type": "execute_result"
    }
   ],
   "source": [
    "df_test = pd.read_csv(\"test.csv\", encoding=\"unicode_escape\", lineterminator='\\r')\n",
    "df_test.head()"
   ],
   "metadata": {
    "collapsed": false,
    "ExecuteTime": {
     "end_time": "2023-10-07T17:45:22.655833Z",
     "start_time": "2023-10-07T17:45:22.597418Z"
    }
   },
   "id": "908a6398133a1187"
  },
  {
   "cell_type": "markdown",
   "source": [
    "# EDA - Exploratory Data Analysis\n",
    "\n",
    "## Tweet\n",
    "Tweet is a text content which limited to 280 characters or Unicode glyphs. It can have hashtags, mentions or Retweets. \n",
    "\n",
    "A hashtag is a words or phrases preceded by the \"#\" symbol. \n",
    "\n",
    "A mention is a tag of other X users by using a '@' forllowed by their username. A username can only contain alphanumeric characters (letters A-Z, numbers 0-9) except underscores.\n",
    "\n",
    "A Retweet(RT) / Repost is a re-posting of a post. It could be your own posts or posts from others. There is no official X command or feature of using \"RT\" at the beginning of a post for indicating a RT. But, a RT looks like that by following the author's name and username.\n",
    "\n",
    "## Stance\n",
    "Stance refers to an individual's or entity's position, viewpoint, or attitude regarding a particular topic, issue, or argument. It represents one's perspective or stance on a given subject and can range from being in favor of that subject to being against or even being neutral.\n",
    "\n",
    "ref: \n",
    "X Corp. - \"Counting characters\", online available: https://developer.twitter.com/en/docs/counting-characters\n",
    "X Corp. - \"Help with username registration\", online available: https://help.twitter.com/en/managing-your-account/x-username-rules \n",
    "X Corp. - \"RePost FAQs\", online available: https://help.twitter.com/en/using-x/repost-faqs"
   ],
   "metadata": {
    "collapsed": false
   },
   "id": "916ec2d3baebc602"
  },
  {
   "cell_type": "markdown",
   "source": [
    "Patterns of Mention, Retweet & Hashtag"
   ],
   "metadata": {
    "collapsed": false
   },
   "id": "2f04bbaae9d8660a"
  },
  {
   "cell_type": "code",
   "execution_count": 7,
   "outputs": [],
   "source": [
    "mention_pattern = r'@[A-z0-9_]{2,}'\n",
    "retweet_pattern = r'RT\\s'+mention_pattern+r':\\s?'\n",
    "hashtag_pattern = r'(#[A-z0-9_]+)'"
   ],
   "metadata": {
    "collapsed": false,
    "ExecuteTime": {
     "end_time": "2023-10-07T17:45:22.656587Z",
     "start_time": "2023-10-07T17:45:22.607813Z"
    }
   },
   "id": "e01bfafa3731444e"
  },
  {
   "cell_type": "markdown",
   "source": [
    "## 1. Describing Data set\n",
    "### Train set"
   ],
   "metadata": {
    "collapsed": false
   },
   "id": "d2616827341fada8"
  },
  {
   "cell_type": "code",
   "execution_count": 8,
   "outputs": [
    {
     "data": {
      "text/plain": "                                                    Tweet           Target  \\\ncount                                                2914             2914   \nunique                                               2914                5   \ntop     @tedcruz And, #HandOverTheServer she wiped cle...  Hillary Clinton   \nfreq                                                    1              689   \n\n         Stance                                    Opinion Towards Sentiment  \ncount      2914                                               2914      2914  \nunique        3                                                  3         3  \ntop     AGAINST  1.  The tweet explicitly expresses opinion abo...       neg  \nfreq       1395                                               1716      1762  ",
      "text/html": "<div>\n<style scoped>\n    .dataframe tbody tr th:only-of-type {\n        vertical-align: middle;\n    }\n\n    .dataframe tbody tr th {\n        vertical-align: top;\n    }\n\n    .dataframe thead th {\n        text-align: right;\n    }\n</style>\n<table border=\"1\" class=\"dataframe\">\n  <thead>\n    <tr style=\"text-align: right;\">\n      <th></th>\n      <th>Tweet</th>\n      <th>Target</th>\n      <th>Stance</th>\n      <th>Opinion Towards</th>\n      <th>Sentiment</th>\n    </tr>\n  </thead>\n  <tbody>\n    <tr>\n      <th>count</th>\n      <td>2914</td>\n      <td>2914</td>\n      <td>2914</td>\n      <td>2914</td>\n      <td>2914</td>\n    </tr>\n    <tr>\n      <th>unique</th>\n      <td>2914</td>\n      <td>5</td>\n      <td>3</td>\n      <td>3</td>\n      <td>3</td>\n    </tr>\n    <tr>\n      <th>top</th>\n      <td>@tedcruz And, #HandOverTheServer she wiped cle...</td>\n      <td>Hillary Clinton</td>\n      <td>AGAINST</td>\n      <td>1.  The tweet explicitly expresses opinion abo...</td>\n      <td>neg</td>\n    </tr>\n    <tr>\n      <th>freq</th>\n      <td>1</td>\n      <td>689</td>\n      <td>1395</td>\n      <td>1716</td>\n      <td>1762</td>\n    </tr>\n  </tbody>\n</table>\n</div>"
     },
     "execution_count": 8,
     "metadata": {},
     "output_type": "execute_result"
    }
   ],
   "source": [
    "df.describe()"
   ],
   "metadata": {
    "collapsed": false,
    "ExecuteTime": {
     "end_time": "2023-10-07T17:45:22.700138Z",
     "start_time": "2023-10-07T17:45:22.610896Z"
    }
   },
   "id": "4e9f1df2170fdada"
  },
  {
   "cell_type": "markdown",
   "source": [
    "### Test set"
   ],
   "metadata": {
    "collapsed": false
   },
   "id": "4e29a2d5286f4417"
  },
  {
   "cell_type": "code",
   "execution_count": 9,
   "outputs": [
    {
     "data": {
      "text/plain": "                                                    Tweet        Target  \\\ncount                                                1956          1956   \nunique                                               1956             6   \ntop     He who exalts himself shall      be humbled; a...  Donald Trump   \nfreq                                                    1           707   \n\n         Stance                                    Opinion Towards Sentiment  \ncount      1956                                               1956      1956  \nunique        3                                                  3         3  \ntop     AGAINST  1.  The tweet explicitly expresses opinion abo...       neg  \nfreq       1014                                               1148      1272  ",
      "text/html": "<div>\n<style scoped>\n    .dataframe tbody tr th:only-of-type {\n        vertical-align: middle;\n    }\n\n    .dataframe tbody tr th {\n        vertical-align: top;\n    }\n\n    .dataframe thead th {\n        text-align: right;\n    }\n</style>\n<table border=\"1\" class=\"dataframe\">\n  <thead>\n    <tr style=\"text-align: right;\">\n      <th></th>\n      <th>Tweet</th>\n      <th>Target</th>\n      <th>Stance</th>\n      <th>Opinion Towards</th>\n      <th>Sentiment</th>\n    </tr>\n  </thead>\n  <tbody>\n    <tr>\n      <th>count</th>\n      <td>1956</td>\n      <td>1956</td>\n      <td>1956</td>\n      <td>1956</td>\n      <td>1956</td>\n    </tr>\n    <tr>\n      <th>unique</th>\n      <td>1956</td>\n      <td>6</td>\n      <td>3</td>\n      <td>3</td>\n      <td>3</td>\n    </tr>\n    <tr>\n      <th>top</th>\n      <td>He who exalts himself shall      be humbled; a...</td>\n      <td>Donald Trump</td>\n      <td>AGAINST</td>\n      <td>1.  The tweet explicitly expresses opinion abo...</td>\n      <td>neg</td>\n    </tr>\n    <tr>\n      <th>freq</th>\n      <td>1</td>\n      <td>707</td>\n      <td>1014</td>\n      <td>1148</td>\n      <td>1272</td>\n    </tr>\n  </tbody>\n</table>\n</div>"
     },
     "execution_count": 9,
     "metadata": {},
     "output_type": "execute_result"
    }
   ],
   "source": [
    "df_test.describe()"
   ],
   "metadata": {
    "collapsed": false,
    "ExecuteTime": {
     "end_time": "2023-10-07T17:45:22.700567Z",
     "start_time": "2023-10-07T17:45:22.619172Z"
    }
   },
   "id": "4ce4ba7dfa57dce7"
  },
  {
   "cell_type": "markdown",
   "source": [
    "## 2. Types of Varibles\n",
    "i. Stances\n",
    "ii. Opinion Towards\n",
    "iii. Sentiment"
   ],
   "metadata": {
    "collapsed": false
   },
   "id": "69137dc362d2fd67"
  },
  {
   "cell_type": "code",
   "execution_count": 10,
   "outputs": [
    {
     "name": "stdout",
     "output_type": "stream",
     "text": [
      "Stances in data set: ['AGAINST', 'FAVOR', 'NONE']\n",
      "Difference of Targets: []\n",
      "Opinion Towards in data set: ['1.  The tweet explicitly expresses opinion about the target, a part of the target, or an aspect of the target.', '2. The tweet does NOT expresses opinion about the target but it HAS opinion about something or someone other than the target.', '3.  The tweet is not explicitly expressing opinion. (For example, the tweet is simply giving information.)']\n",
      "Difference of Opinion Towards: []\n",
      "Sentiment in data set: ['neg', 'other', 'pos']\n",
      "Difference of Sentiment: []\n"
     ]
    }
   ],
   "source": [
    "print(f\"Stances in data set: {sorted(df['Stance'].unique())}\")\n",
    "print(f\"Difference of Targets: {df_test['Stance'][~df_test['Stance'].isin(df['Stance'])].unique()}\")\n",
    "\n",
    "print(f\"Opinion Towards in data set: {sorted(df['Opinion Towards'].unique())}\")\n",
    "print(f\"Difference of Opinion Towards: {df_test['Opinion Towards'][~df_test['Opinion Towards'].isin(df['Opinion Towards'])].unique()}\")\n",
    "\n",
    "print(f\"Sentiment in data set: {sorted(df['Sentiment'].unique())}\")\n",
    "print(f\"Difference of Sentiment: {df_test['Sentiment'][~df_test['Sentiment'].isin(df['Sentiment'])].unique()}\")\n"
   ],
   "metadata": {
    "collapsed": false,
    "ExecuteTime": {
     "end_time": "2023-10-07T17:45:22.700697Z",
     "start_time": "2023-10-07T17:45:22.626193Z"
    }
   },
   "id": "c65a1c9d6ec1aa09"
  },
  {
   "cell_type": "markdown",
   "source": [
    "Columns `Opinion Towards` and `Sentiment` are not used to classify the stance. Therefore, the two columns are removed."
   ],
   "metadata": {
    "collapsed": false
   },
   "id": "c64d6122e69d4390"
  },
  {
   "cell_type": "markdown",
   "source": [
    "iv. Targets\n",
    "Differences in Train and Test set"
   ],
   "metadata": {
    "collapsed": false
   },
   "id": "e61e74cf8e1c8681"
  },
  {
   "cell_type": "code",
   "execution_count": 11,
   "outputs": [
    {
     "name": "stdout",
     "output_type": "stream",
     "text": [
      "Targets in train set: ['Atheism', 'Climate Change is a Real Concern', 'Feminist Movement', 'Hillary Clinton', 'Legalization of Abortion']\n",
      "Targets in test set: ['Atheism', 'Climate Change is a Real Concern', 'Donald Trump', 'Feminist Movement', 'Hillary Clinton', 'Legalization of Abortion']\n",
      "Difference of Targets: ['Donald Trump']\n"
     ]
    }
   ],
   "source": [
    "print(f\"Targets in train set: {sorted(df['Target'].unique())}\")\n",
    "print(f\"Targets in test set: {sorted(df_test['Target'].unique())}\")\n",
    "\n",
    "print(f\"Difference of Targets: {df_test['Target'][~df_test['Target'].isin(df['Target'])].unique()}\")"
   ],
   "metadata": {
    "collapsed": false,
    "ExecuteTime": {
     "end_time": "2023-10-07T17:45:22.700784Z",
     "start_time": "2023-10-07T17:45:22.633533Z"
    }
   },
   "id": "c698189fa43818e1"
  },
  {
   "cell_type": "markdown",
   "source": [
    "There are 2914 records in train set and 1956 in test set. The training and testing ratio is about 60-40. There are 3 types of `Stance` in both training and test set. But, there are 5 `Targets` in training set and 6 `Targets` in test set. The difference between them is \"Donald Trump\"."
   ],
   "metadata": {
    "collapsed": false
   },
   "id": "e8dc6090f8921321"
  },
  {
   "cell_type": "code",
   "execution_count": 12,
   "outputs": [],
   "source": [
    "df = df[['Tweet','Target','Stance']]\n",
    "df_test = df_test[['Tweet','Target','Stance']]"
   ],
   "metadata": {
    "collapsed": false,
    "ExecuteTime": {
     "end_time": "2023-10-07T17:45:22.702790Z",
     "start_time": "2023-10-07T17:45:22.636792Z"
    }
   },
   "id": "9fd39d6120cd9cb2"
  },
  {
   "cell_type": "markdown",
   "source": [
    "## 3. Imbalance of Dataset\n",
    "### i. Targets"
   ],
   "metadata": {
    "collapsed": false
   },
   "id": "af28efd8fc2523b4"
  },
  {
   "cell_type": "code",
   "execution_count": 13,
   "outputs": [
    {
     "data": {
      "text/plain": "Text(0, 0.5, 'Targets')"
     },
     "execution_count": 13,
     "metadata": {},
     "output_type": "execute_result"
    },
    {
     "data": {
      "text/plain": "<Figure size 400x300 with 1 Axes>",
      "image/png": "[encoded data removed]"
     },
     "metadata": {},
     "output_type": "display_data"
    }
   ],
   "source": [
    "df_grouped_2 = df.groupby('Target').size().reset_index(name='Count')\n",
    "fig = plt.figure(figsize=(4,3))\n",
    "\n",
    "sns.barplot(x='Count', y='Target', orient='h', data=df_grouped_2)\n",
    "\n",
    "plt.title(\"Distribution Count of Targets in Train Set\")\n",
    "plt.xlabel(\"Count\")\n",
    "plt.ylabel(\"Targets\")"
   ],
   "metadata": {
    "collapsed": false,
    "ExecuteTime": {
     "end_time": "2023-10-07T17:45:22.925211Z",
     "start_time": "2023-10-07T17:45:22.639741Z"
    }
   },
   "id": "e630fc03e4392174"
  },
  {
   "cell_type": "code",
   "execution_count": 14,
   "outputs": [
    {
     "data": {
      "text/plain": "Text(0, 0.5, 'Targets')"
     },
     "execution_count": 14,
     "metadata": {},
     "output_type": "execute_result"
    },
    {
     "data": {
      "text/plain": "<Figure size 400x300 with 1 Axes>",
      "image/png": "[encoded data removed]"
     },
     "metadata": {},
     "output_type": "display_data"
    }
   ],
   "source": [
    "df_test_grouped_2 = df_test.groupby('Target').size().reset_index(name='Count')\n",
    "fig = plt.figure(figsize=(4,3))\n",
    "\n",
    "sns.barplot(x='Count', y='Target', orient='h', data=df_test_grouped_2)\n",
    "\n",
    "plt.title(\"Distribution Count of Targets in Train Set\")\n",
    "plt.xlabel(\"Count\")\n",
    "plt.ylabel(\"Targets\")"
   ],
   "metadata": {
    "collapsed": false,
    "ExecuteTime": {
     "end_time": "2023-10-07T17:45:22.978575Z",
     "start_time": "2023-10-07T17:45:22.738438Z"
    }
   },
   "id": "3b6e6c7988c7bac7"
  },
  {
   "cell_type": "markdown",
   "source": [
    "### ii. Stances Imbalance for Targets (Bias)"
   ],
   "metadata": {
    "collapsed": false
   },
   "id": "562f51d6bc5d8731"
  },
  {
   "cell_type": "code",
   "execution_count": 15,
   "outputs": [
    {
     "data": {
      "text/plain": "                              Target   Stance  Count  Percentage\n0                            Atheism  AGAINST    304   59.259259\n1                            Atheism    FAVOR     92   17.933723\n2                            Atheism     NONE    117   22.807018\n3   Climate Change is a Real Concern  AGAINST     15    3.797468\n4   Climate Change is a Real Concern    FAVOR    212   53.670886\n5   Climate Change is a Real Concern     NONE    168   42.531646\n6                  Feminist Movement  AGAINST    328   49.397590\n7                  Feminist Movement    FAVOR    210   31.626506\n8                  Feminist Movement     NONE    126   18.975904\n9                    Hillary Clinton  AGAINST    393   57.039187\n10                   Hillary Clinton    FAVOR    118   17.126270\n11                   Hillary Clinton     NONE    178   25.834543\n12          Legalization of Abortion  AGAINST    355   54.364472\n13          Legalization of Abortion    FAVOR    121   18.529862\n14          Legalization of Abortion     NONE    177   27.105666",
      "text/html": "<div>\n<style scoped>\n    .dataframe tbody tr th:only-of-type {\n        vertical-align: middle;\n    }\n\n    .dataframe tbody tr th {\n        vertical-align: top;\n    }\n\n    .dataframe thead th {\n        text-align: right;\n    }\n</style>\n<table border=\"1\" class=\"dataframe\">\n  <thead>\n    <tr style=\"text-align: right;\">\n      <th></th>\n      <th>Target</th>\n      <th>Stance</th>\n      <th>Count</th>\n      <th>Percentage</th>\n    </tr>\n  </thead>\n  <tbody>\n    <tr>\n      <th>0</th>\n      <td>Atheism</td>\n      <td>AGAINST</td>\n      <td>304</td>\n      <td>59.259259</td>\n    </tr>\n    <tr>\n      <th>1</th>\n      <td>Atheism</td>\n      <td>FAVOR</td>\n      <td>92</td>\n      <td>17.933723</td>\n    </tr>\n    <tr>\n      <th>2</th>\n      <td>Atheism</td>\n      <td>NONE</td>\n      <td>117</td>\n      <td>22.807018</td>\n    </tr>\n    <tr>\n      <th>3</th>\n      <td>Climate Change is a Real Concern</td>\n      <td>AGAINST</td>\n      <td>15</td>\n      <td>3.797468</td>\n    </tr>\n    <tr>\n      <th>4</th>\n      <td>Climate Change is a Real Concern</td>\n      <td>FAVOR</td>\n      <td>212</td>\n      <td>53.670886</td>\n    </tr>\n    <tr>\n      <th>5</th>\n      <td>Climate Change is a Real Concern</td>\n      <td>NONE</td>\n      <td>168</td>\n      <td>42.531646</td>\n    </tr>\n    <tr>\n      <th>6</th>\n      <td>Feminist Movement</td>\n      <td>AGAINST</td>\n      <td>328</td>\n      <td>49.397590</td>\n    </tr>\n    <tr>\n      <th>7</th>\n      <td>Feminist Movement</td>\n      <td>FAVOR</td>\n      <td>210</td>\n      <td>31.626506</td>\n    </tr>\n    <tr>\n      <th>8</th>\n      <td>Feminist Movement</td>\n      <td>NONE</td>\n      <td>126</td>\n      <td>18.975904</td>\n    </tr>\n    <tr>\n      <th>9</th>\n      <td>Hillary Clinton</td>\n      <td>AGAINST</td>\n      <td>393</td>\n      <td>57.039187</td>\n    </tr>\n    <tr>\n      <th>10</th>\n      <td>Hillary Clinton</td>\n      <td>FAVOR</td>\n      <td>118</td>\n      <td>17.126270</td>\n    </tr>\n    <tr>\n      <th>11</th>\n      <td>Hillary Clinton</td>\n      <td>NONE</td>\n      <td>178</td>\n      <td>25.834543</td>\n    </tr>\n    <tr>\n      <th>12</th>\n      <td>Legalization of Abortion</td>\n      <td>AGAINST</td>\n      <td>355</td>\n      <td>54.364472</td>\n    </tr>\n    <tr>\n      <th>13</th>\n      <td>Legalization of Abortion</td>\n      <td>FAVOR</td>\n      <td>121</td>\n      <td>18.529862</td>\n    </tr>\n    <tr>\n      <th>14</th>\n      <td>Legalization of Abortion</td>\n      <td>NONE</td>\n      <td>177</td>\n      <td>27.105666</td>\n    </tr>\n  </tbody>\n</table>\n</div>"
     },
     "execution_count": 15,
     "metadata": {},
     "output_type": "execute_result"
    }
   ],
   "source": [
    "df_grouped = df.groupby(['Target','Stance']).size().reset_index(name='Count')\n",
    "counts_target = df_grouped.groupby('Target')['Count'].transform('sum')\n",
    "df_grouped['Percentage'] = (df_grouped['Count'] / counts_target) * 100\n",
    "df_grouped"
   ],
   "metadata": {
    "collapsed": false,
    "ExecuteTime": {
     "end_time": "2023-10-07T17:45:22.978906Z",
     "start_time": "2023-10-07T17:45:22.826430Z"
    }
   },
   "id": "53f6f290aa76d847"
  },
  {
   "cell_type": "code",
   "execution_count": 16,
   "outputs": [
    {
     "name": "stdout",
     "output_type": "stream",
     "text": [
      "target: Atheism, max: AGAINST (304)\n",
      "target: Climate Change is a Real Concern, max: FAVOR (212)\n",
      "target: Feminist Movement, max: AGAINST (328)\n",
      "target: Hillary Clinton, max: AGAINST (393)\n",
      "target: Legalization of Abortion, max: AGAINST (355)\n"
     ]
    }
   ],
   "source": [
    "for target in df_grouped['Target'].unique():\n",
    "    max_idx = df_grouped[df_grouped[\"Target\"] == target][\"Count\"].idxmax()\n",
    "    print(f'target: {target}, max: {df_grouped.loc[max_idx][\"Stance\"]} ({df_grouped.loc[max_idx][\"Count\"]})')"
   ],
   "metadata": {
    "collapsed": false,
    "ExecuteTime": {
     "end_time": "2023-10-07T17:45:22.979006Z",
     "start_time": "2023-10-07T17:45:22.833954Z"
    }
   },
   "id": "f039ff9e85c86acc"
  },
  {
   "cell_type": "code",
   "execution_count": 17,
   "outputs": [
    {
     "data": {
      "text/plain": "Text(0, 0.5, 'Targets')"
     },
     "execution_count": 17,
     "metadata": {},
     "output_type": "execute_result"
    },
    {
     "data": {
      "text/plain": "<Figure size 600x300 with 1 Axes>",
      "image/png": "[encoded data removed]"
     },
     "metadata": {},
     "output_type": "display_data"
    }
   ],
   "source": [
    "fig = plt.figure(figsize=(6,3))\n",
    "\n",
    "sns.barplot(x='Percentage', y='Target', hue='Stance', orient='h', data=df_grouped)\n",
    "\n",
    "plt.title(\"Distribution Percentage of Stance in Targets - Train Set\")\n",
    "plt.xlabel(\"Percentage(%)\")\n",
    "plt.ylabel(\"Targets\")"
   ],
   "metadata": {
    "collapsed": false,
    "ExecuteTime": {
     "end_time": "2023-10-07T17:45:23.191991Z",
     "start_time": "2023-10-07T17:45:22.840140Z"
    }
   },
   "id": "4fc29981bf5c1a5b"
  },
  {
   "cell_type": "code",
   "execution_count": 18,
   "outputs": [
    {
     "data": {
      "text/plain": "                             Target   Stance  Count  Percentage\n0                           Atheism  AGAINST    160   72.727273\n1                           Atheism    FAVOR     32   14.545455\n2                           Atheism     NONE     28   12.727273\n3  Climate Change is a Real Concern  AGAINST     11    6.508876\n4  Climate Change is a Real Concern    FAVOR    123   72.781065",
      "text/html": "<div>\n<style scoped>\n    .dataframe tbody tr th:only-of-type {\n        vertical-align: middle;\n    }\n\n    .dataframe tbody tr th {\n        vertical-align: top;\n    }\n\n    .dataframe thead th {\n        text-align: right;\n    }\n</style>\n<table border=\"1\" class=\"dataframe\">\n  <thead>\n    <tr style=\"text-align: right;\">\n      <th></th>\n      <th>Target</th>\n      <th>Stance</th>\n      <th>Count</th>\n      <th>Percentage</th>\n    </tr>\n  </thead>\n  <tbody>\n    <tr>\n      <th>0</th>\n      <td>Atheism</td>\n      <td>AGAINST</td>\n      <td>160</td>\n      <td>72.727273</td>\n    </tr>\n    <tr>\n      <th>1</th>\n      <td>Atheism</td>\n      <td>FAVOR</td>\n      <td>32</td>\n      <td>14.545455</td>\n    </tr>\n    <tr>\n      <th>2</th>\n      <td>Atheism</td>\n      <td>NONE</td>\n      <td>28</td>\n      <td>12.727273</td>\n    </tr>\n    <tr>\n      <th>3</th>\n      <td>Climate Change is a Real Concern</td>\n      <td>AGAINST</td>\n      <td>11</td>\n      <td>6.508876</td>\n    </tr>\n    <tr>\n      <th>4</th>\n      <td>Climate Change is a Real Concern</td>\n      <td>FAVOR</td>\n      <td>123</td>\n      <td>72.781065</td>\n    </tr>\n  </tbody>\n</table>\n</div>"
     },
     "execution_count": 18,
     "metadata": {},
     "output_type": "execute_result"
    }
   ],
   "source": [
    "df_test_grouped = df_test.groupby(['Target','Stance']).size().reset_index(name='Count')\n",
    "counts_test_target = df_test_grouped.groupby('Target')['Count'].transform('sum')\n",
    "df_test_grouped['Percentage'] = (df_test_grouped['Count'] / counts_test_target) * 100\n",
    "df_test_grouped.head()"
   ],
   "metadata": {
    "collapsed": false,
    "ExecuteTime": {
     "end_time": "2023-10-07T17:45:23.192289Z",
     "start_time": "2023-10-07T17:45:22.982561Z"
    }
   },
   "id": "e41a27e8ede385a1"
  },
  {
   "cell_type": "code",
   "execution_count": 19,
   "outputs": [
    {
     "data": {
      "text/plain": "Text(0, 0.5, 'Targets')"
     },
     "execution_count": 19,
     "metadata": {},
     "output_type": "execute_result"
    },
    {
     "data": {
      "text/plain": "<Figure size 600x400 with 1 Axes>",
      "image/png": "[encoded data removed]"
     },
     "metadata": {},
     "output_type": "display_data"
    }
   ],
   "source": [
    "fig = plt.figure(figsize=(6,4))\n",
    "\n",
    "sns.barplot(x='Percentage', y='Target', hue='Stance', orient='h',errorbar=None, data=df_test_grouped)\n",
    "\n",
    "plt.title(\"Distribution Percentage of Stance in Targets - Test Set\")\n",
    "plt.xlabel(\"Percentage(%)\")\n",
    "plt.ylabel(\"Targets\")"
   ],
   "metadata": {
    "collapsed": false,
    "ExecuteTime": {
     "end_time": "2023-10-07T17:45:23.237169Z",
     "start_time": "2023-10-07T17:45:23.004311Z"
    }
   },
   "id": "2aa15cac4503badf"
  },
  {
   "cell_type": "markdown",
   "source": [
    "Above two tables show the stance type balance are not balance. It is minority for against \"Climate Change is a Real Concern\" in both train and test set. Feminist Movement in train set would be balance, but it is not even in test set."
   ],
   "metadata": {
    "collapsed": false
   },
   "id": "9c08296d862caac5"
  },
  {
   "cell_type": "code",
   "execution_count": 20,
   "outputs": [],
   "source": [
    "def random_pick(group):\n",
    "    return group.sample(n=1, random_state=0)"
   ],
   "metadata": {
    "collapsed": false,
    "ExecuteTime": {
     "end_time": "2023-10-07T17:45:23.237309Z",
     "start_time": "2023-10-07T17:45:23.119932Z"
    }
   },
   "id": "628f57a29c7030b7"
  },
  {
   "cell_type": "code",
   "execution_count": 21,
   "outputs": [
    {
     "data": {
      "text/plain": "                                                  Tweet  \\\n213   #God cares about everything that concerns you,...   \n118   Leaving Christianity enables you to love the p...   \n161   True community is being able to disagree and s...   \n659   BREAKING: This just in, an ocean wave just bro...   \n1001  We need integrated #science with #indigenous k...   \n977   @davidakin @lraitt Installing new #ForestFire ...   \n1406  IF FEMINISTS WERE HONEST   \"I know men don't h...   \n1026  @randomtweetor i hate to break it to u bruh bu...   \n1060  Honoured to be followed by the truly inspirati...   \n1854  RT @FutureTXLeader: Are y'all #TexasTech #RedR...   \n1998  Madam President Clinton; you have all the gays...   \n1819  THEYRE NOT \"THUGS\"  YOU #TEAPARTY RACISTS THEY...   \n64    It is not progressive to try to resolve proble...   \n2432  @Fredindimuli  yes he has an opinion but the c...   \n2436  @smalldoctor15: What is postinor popularly use...   \n\n                                Target   Stance  \n213                            Atheism  AGAINST  \n118                            Atheism    FAVOR  \n161                            Atheism     NONE  \n659   Climate Change is a Real Concern  AGAINST  \n1001  Climate Change is a Real Concern    FAVOR  \n977   Climate Change is a Real Concern     NONE  \n1406                 Feminist Movement  AGAINST  \n1026                 Feminist Movement    FAVOR  \n1060                 Feminist Movement     NONE  \n1854                   Hillary Clinton  AGAINST  \n1998                   Hillary Clinton    FAVOR  \n1819                   Hillary Clinton     NONE  \n64            Legalization of Abortion  AGAINST  \n2432          Legalization of Abortion    FAVOR  \n2436          Legalization of Abortion     NONE  ",
      "text/html": "<div>\n<style scoped>\n    .dataframe tbody tr th:only-of-type {\n        vertical-align: middle;\n    }\n\n    .dataframe tbody tr th {\n        vertical-align: top;\n    }\n\n    .dataframe thead th {\n        text-align: right;\n    }\n</style>\n<table border=\"1\" class=\"dataframe\">\n  <thead>\n    <tr style=\"text-align: right;\">\n      <th></th>\n      <th>Tweet</th>\n      <th>Target</th>\n      <th>Stance</th>\n    </tr>\n  </thead>\n  <tbody>\n    <tr>\n      <th>213</th>\n      <td>#God cares about everything that concerns you,...</td>\n      <td>Atheism</td>\n      <td>AGAINST</td>\n    </tr>\n    <tr>\n      <th>118</th>\n      <td>Leaving Christianity enables you to love the p...</td>\n      <td>Atheism</td>\n      <td>FAVOR</td>\n    </tr>\n    <tr>\n      <th>161</th>\n      <td>True community is being able to disagree and s...</td>\n      <td>Atheism</td>\n      <td>NONE</td>\n    </tr>\n    <tr>\n      <th>659</th>\n      <td>BREAKING: This just in, an ocean wave just bro...</td>\n      <td>Climate Change is a Real Concern</td>\n      <td>AGAINST</td>\n    </tr>\n    <tr>\n      <th>1001</th>\n      <td>We need integrated #science with #indigenous k...</td>\n      <td>Climate Change is a Real Concern</td>\n      <td>FAVOR</td>\n    </tr>\n    <tr>\n      <th>977</th>\n      <td>@davidakin @lraitt Installing new #ForestFire ...</td>\n      <td>Climate Change is a Real Concern</td>\n      <td>NONE</td>\n    </tr>\n    <tr>\n      <th>1406</th>\n      <td>IF FEMINISTS WERE HONEST   \"I know men don't h...</td>\n      <td>Feminist Movement</td>\n      <td>AGAINST</td>\n    </tr>\n    <tr>\n      <th>1026</th>\n      <td>@randomtweetor i hate to break it to u bruh bu...</td>\n      <td>Feminist Movement</td>\n      <td>FAVOR</td>\n    </tr>\n    <tr>\n      <th>1060</th>\n      <td>Honoured to be followed by the truly inspirati...</td>\n      <td>Feminist Movement</td>\n      <td>NONE</td>\n    </tr>\n    <tr>\n      <th>1854</th>\n      <td>RT @FutureTXLeader: Are y'all #TexasTech #RedR...</td>\n      <td>Hillary Clinton</td>\n      <td>AGAINST</td>\n    </tr>\n    <tr>\n      <th>1998</th>\n      <td>Madam President Clinton; you have all the gays...</td>\n      <td>Hillary Clinton</td>\n      <td>FAVOR</td>\n    </tr>\n    <tr>\n      <th>1819</th>\n      <td>THEYRE NOT \"THUGS\"  YOU #TEAPARTY RACISTS THEY...</td>\n      <td>Hillary Clinton</td>\n      <td>NONE</td>\n    </tr>\n    <tr>\n      <th>64</th>\n      <td>It is not progressive to try to resolve proble...</td>\n      <td>Legalization of Abortion</td>\n      <td>AGAINST</td>\n    </tr>\n    <tr>\n      <th>2432</th>\n      <td>@Fredindimuli  yes he has an opinion but the c...</td>\n      <td>Legalization of Abortion</td>\n      <td>FAVOR</td>\n    </tr>\n    <tr>\n      <th>2436</th>\n      <td>@smalldoctor15: What is postinor popularly use...</td>\n      <td>Legalization of Abortion</td>\n      <td>NONE</td>\n    </tr>\n  </tbody>\n</table>\n</div>"
     },
     "execution_count": 21,
     "metadata": {},
     "output_type": "execute_result"
    }
   ],
   "source": [
    "random_samples = df.groupby(['Target', 'Stance'], group_keys=False).apply(random_pick)\n",
    "random_samples"
   ],
   "metadata": {
    "collapsed": false,
    "ExecuteTime": {
     "end_time": "2023-10-07T17:45:23.237697Z",
     "start_time": "2023-10-07T17:45:23.122645Z"
    }
   },
   "id": "785855d0feef8e19"
  },
  {
   "cell_type": "code",
   "execution_count": 22,
   "outputs": [
    {
     "data": {
      "text/plain": "                             Target  Tweet  Stance\n0                           Atheism    116     116\n1  Climate Change is a Real Concern      3       3\n2                 Feminist Movement      5       5\n3                   Hillary Clinton      6       6\n4          Legalization of Abortion     30      30",
      "text/html": "<div>\n<style scoped>\n    .dataframe tbody tr th:only-of-type {\n        vertical-align: middle;\n    }\n\n    .dataframe tbody tr th {\n        vertical-align: top;\n    }\n\n    .dataframe thead th {\n        text-align: right;\n    }\n</style>\n<table border=\"1\" class=\"dataframe\">\n  <thead>\n    <tr style=\"text-align: right;\">\n      <th></th>\n      <th>Target</th>\n      <th>Tweet</th>\n      <th>Stance</th>\n    </tr>\n  </thead>\n  <tbody>\n    <tr>\n      <th>0</th>\n      <td>Atheism</td>\n      <td>116</td>\n      <td>116</td>\n    </tr>\n    <tr>\n      <th>1</th>\n      <td>Climate Change is a Real Concern</td>\n      <td>3</td>\n      <td>3</td>\n    </tr>\n    <tr>\n      <th>2</th>\n      <td>Feminist Movement</td>\n      <td>5</td>\n      <td>5</td>\n    </tr>\n    <tr>\n      <th>3</th>\n      <td>Hillary Clinton</td>\n      <td>6</td>\n      <td>6</td>\n    </tr>\n    <tr>\n      <th>4</th>\n      <td>Legalization of Abortion</td>\n      <td>30</td>\n      <td>30</td>\n    </tr>\n  </tbody>\n</table>\n</div>"
     },
     "execution_count": 22,
     "metadata": {},
     "output_type": "execute_result"
    }
   ],
   "source": [
    "df[df['Tweet'].str.contains(\"God\")].groupby('Target').count().reset_index()"
   ],
   "metadata": {
    "collapsed": false,
    "ExecuteTime": {
     "end_time": "2023-10-07T17:45:23.237875Z",
     "start_time": "2023-10-07T17:45:23.134325Z"
    }
   },
   "id": "c6ff62fd00d7258e"
  },
  {
   "cell_type": "markdown",
   "source": [
    "There would be words (e.g. God) which across in all targets. But the importance of the word is not the same with different targets. It could be misleading if the model considered a word as same importance. Therefore, a target is important to distinguish a stance."
   ],
   "metadata": {
    "collapsed": false
   },
   "id": "f83fa994a91bcb21"
  },
  {
   "cell_type": "markdown",
   "source": [
    "## 4. Extra Target in Test set\n",
    "As there is an extra target (Donald Trump) in the test set. The target should be better to treated as another input. This is another reason to train target as independent input"
   ],
   "metadata": {
    "collapsed": false
   },
   "id": "18a82ddb670eee5d"
  },
  {
   "cell_type": "code",
   "execution_count": 23,
   "outputs": [
    {
     "data": {
      "text/plain": "                                                  Tweet        Target   Stance\n1249  @2014voteblue @ChrisJZullo blindly supporting ...  Donald Trump     NONE\n1250  @ThePimpernelX @Cameron_Gray @CalebHowe  Total...  Donald Trump     NONE\n1251  @JeffYoung @ThePatriot143 I fully support full...  Donald Trump     NONE\n1252  @ABC Stupid is as stupid does! Showedhis true ...  Donald Trump  AGAINST\n1253  @HouseGOP we now have one political party. The...  Donald Trump     NONE",
      "text/html": "<div>\n<style scoped>\n    .dataframe tbody tr th:only-of-type {\n        vertical-align: middle;\n    }\n\n    .dataframe tbody tr th {\n        vertical-align: top;\n    }\n\n    .dataframe thead th {\n        text-align: right;\n    }\n</style>\n<table border=\"1\" class=\"dataframe\">\n  <thead>\n    <tr style=\"text-align: right;\">\n      <th></th>\n      <th>Tweet</th>\n      <th>Target</th>\n      <th>Stance</th>\n    </tr>\n  </thead>\n  <tbody>\n    <tr>\n      <th>1249</th>\n      <td>@2014voteblue @ChrisJZullo blindly supporting ...</td>\n      <td>Donald Trump</td>\n      <td>NONE</td>\n    </tr>\n    <tr>\n      <th>1250</th>\n      <td>@ThePimpernelX @Cameron_Gray @CalebHowe  Total...</td>\n      <td>Donald Trump</td>\n      <td>NONE</td>\n    </tr>\n    <tr>\n      <th>1251</th>\n      <td>@JeffYoung @ThePatriot143 I fully support full...</td>\n      <td>Donald Trump</td>\n      <td>NONE</td>\n    </tr>\n    <tr>\n      <th>1252</th>\n      <td>@ABC Stupid is as stupid does! Showedhis true ...</td>\n      <td>Donald Trump</td>\n      <td>AGAINST</td>\n    </tr>\n    <tr>\n      <th>1253</th>\n      <td>@HouseGOP we now have one political party. The...</td>\n      <td>Donald Trump</td>\n      <td>NONE</td>\n    </tr>\n  </tbody>\n</table>\n</div>"
     },
     "execution_count": 23,
     "metadata": {},
     "output_type": "execute_result"
    }
   ],
   "source": [
    "df_test[df_test['Target'] == \"Donald Trump\"].head()"
   ],
   "metadata": {
    "collapsed": false,
    "ExecuteTime": {
     "end_time": "2023-10-07T17:45:23.238041Z",
     "start_time": "2023-10-07T17:45:23.136972Z"
    }
   },
   "id": "45733eb2bf307539"
  },
  {
   "cell_type": "markdown",
   "source": [
    "## 5. ReTweet\n"
   ],
   "metadata": {
    "collapsed": false
   },
   "id": "9d49ef61292bd8b4"
  },
  {
   "cell_type": "code",
   "execution_count": 24,
   "outputs": [
    {
     "data": {
      "text/plain": "                                                 Tweet  \\\n43   RT @AnthonyCumia: If Hillary IS elected, I hav...   \n49   RT @FutureTXLeader: Is everyone in #ElPaso #Te...   \n65   RT @TheKeyisPrayer: \"No law can give me the ri...   \n112  RT @prayerbullets: Let the righteousness, peac...   \n139  RT @jeremysumpter: Thank you lord for such a b...   \n\n                       Target   Stance  \n43            Hillary Clinton  AGAINST  \n49            Hillary Clinton  AGAINST  \n65   Legalization of Abortion  AGAINST  \n112                   Atheism  AGAINST  \n139                   Atheism  AGAINST  ",
      "text/html": "<div>\n<style scoped>\n    .dataframe tbody tr th:only-of-type {\n        vertical-align: middle;\n    }\n\n    .dataframe tbody tr th {\n        vertical-align: top;\n    }\n\n    .dataframe thead th {\n        text-align: right;\n    }\n</style>\n<table border=\"1\" class=\"dataframe\">\n  <thead>\n    <tr style=\"text-align: right;\">\n      <th></th>\n      <th>Tweet</th>\n      <th>Target</th>\n      <th>Stance</th>\n    </tr>\n  </thead>\n  <tbody>\n    <tr>\n      <th>43</th>\n      <td>RT @AnthonyCumia: If Hillary IS elected, I hav...</td>\n      <td>Hillary Clinton</td>\n      <td>AGAINST</td>\n    </tr>\n    <tr>\n      <th>49</th>\n      <td>RT @FutureTXLeader: Is everyone in #ElPaso #Te...</td>\n      <td>Hillary Clinton</td>\n      <td>AGAINST</td>\n    </tr>\n    <tr>\n      <th>65</th>\n      <td>RT @TheKeyisPrayer: \"No law can give me the ri...</td>\n      <td>Legalization of Abortion</td>\n      <td>AGAINST</td>\n    </tr>\n    <tr>\n      <th>112</th>\n      <td>RT @prayerbullets: Let the righteousness, peac...</td>\n      <td>Atheism</td>\n      <td>AGAINST</td>\n    </tr>\n    <tr>\n      <th>139</th>\n      <td>RT @jeremysumpter: Thank you lord for such a b...</td>\n      <td>Atheism</td>\n      <td>AGAINST</td>\n    </tr>\n  </tbody>\n</table>\n</div>"
     },
     "execution_count": 24,
     "metadata": {},
     "output_type": "execute_result"
    }
   ],
   "source": [
    "df_retweet = df[df['Tweet'].str.contains(retweet_pattern)]\n",
    "df_retweet.head()"
   ],
   "metadata": {
    "collapsed": false,
    "ExecuteTime": {
     "end_time": "2023-10-07T17:45:23.238173Z",
     "start_time": "2023-10-07T17:45:23.141882Z"
    }
   },
   "id": "4dca81d619edb4f9"
  },
  {
   "cell_type": "code",
   "execution_count": 25,
   "outputs": [
    {
     "name": "stderr",
     "output_type": "stream",
     "text": [
      "/var/folders/jn/yt3qy63n3m396tf7pn00ctlw0000gn/T/ipykernel_57015/1021784853.py:1: SettingWithCopyWarning: \n",
      "A value is trying to be set on a copy of a slice from a DataFrame.\n",
      "Try using .loc[row_indexer,col_indexer] = value instead\n",
      "\n",
      "See the caveats in the documentation: https://pandas.pydata.org/pandas-docs/stable/user_guide/indexing.html#returning-a-view-versus-a-copy\n",
      "  df_retweet['Tweet_no_RT'] = df_retweet['Tweet'].str.replace(retweet_pattern, r'', regex=True)\n"
     ]
    },
    {
     "data": {
      "text/plain": "43      If Hillary IS elected, I have my transition te...\n49      Is everyone in #ElPaso #Texas ready for presid...\n65      \"No law can give me the right to do what is wr...\n112     Let the righteousness, peace, and joy of the k...\n139     Thank you lord for such a beautiful Sunday :) ...\n                              ...                        \n2727    RT @ProLifeYouth Adopting a child shouldn't co...\n2751    @JustinTrudeau try joining the millions of sla...\n2752    Why doesn't anyone congratulate me for NOT get...\n2833    Who's yer man in the #dail talking about bully...\n2890    Yes I will be at @theRallyforLife! Counting do...\nName: Tweet_no_RT, Length: 92, dtype: object"
     },
     "execution_count": 25,
     "metadata": {},
     "output_type": "execute_result"
    }
   ],
   "source": [
    "df_retweet['Tweet_no_RT'] = df_retweet['Tweet'].str.replace(retweet_pattern, r'', regex=True)\n",
    "df_retweet['Tweet_no_RT']"
   ],
   "metadata": {
    "collapsed": false,
    "ExecuteTime": {
     "end_time": "2023-10-07T17:45:23.238345Z",
     "start_time": "2023-10-07T17:45:23.148085Z"
    }
   },
   "id": "7659dbe1a54d2bb8"
  },
  {
   "cell_type": "code",
   "execution_count": 26,
   "outputs": [
    {
     "data": {
      "text/plain": "                                             Tweet_x  \\\n0  RT @WeAreFemstrong: Wonder what it'd be like t...   \n1  RT @gbforchoice: When is abortion a responsibl...   \n2  RT @FrCharles: .@giannaberettamo @GiaMolla @sp...   \n\n                   Target_x Stance_x  \\\n0         Feminist Movement    FAVOR   \n1  Legalization of Abortion    FAVOR   \n2  Legalization of Abortion     NONE   \n\n                                         Tweet_no_RT  \\\n0  Wonder what it'd be like to wear a dress and N...   \n1  When is abortion a responsible choice? When a ...   \n2  .@giannaberettamo @GiaMolla @sphcs_news Happy ...   \n\n                                             Tweet_y  \\\n0  Wonder what it'd be like to wear a dress and N...   \n1  When is abortion a responsible choice? When a ...   \n2  .@giannaberettamo @GiaMolla @sphcs_news Happy ...   \n\n                   Target_y Stance_y  \n0         Feminist Movement    FAVOR  \n1  Legalization of Abortion    FAVOR  \n2  Legalization of Abortion  AGAINST  ",
      "text/html": "<div>\n<style scoped>\n    .dataframe tbody tr th:only-of-type {\n        vertical-align: middle;\n    }\n\n    .dataframe tbody tr th {\n        vertical-align: top;\n    }\n\n    .dataframe thead th {\n        text-align: right;\n    }\n</style>\n<table border=\"1\" class=\"dataframe\">\n  <thead>\n    <tr style=\"text-align: right;\">\n      <th></th>\n      <th>Tweet_x</th>\n      <th>Target_x</th>\n      <th>Stance_x</th>\n      <th>Tweet_no_RT</th>\n      <th>Tweet_y</th>\n      <th>Target_y</th>\n      <th>Stance_y</th>\n    </tr>\n  </thead>\n  <tbody>\n    <tr>\n      <th>0</th>\n      <td>RT @WeAreFemstrong: Wonder what it'd be like t...</td>\n      <td>Feminist Movement</td>\n      <td>FAVOR</td>\n      <td>Wonder what it'd be like to wear a dress and N...</td>\n      <td>Wonder what it'd be like to wear a dress and N...</td>\n      <td>Feminist Movement</td>\n      <td>FAVOR</td>\n    </tr>\n    <tr>\n      <th>1</th>\n      <td>RT @gbforchoice: When is abortion a responsibl...</td>\n      <td>Legalization of Abortion</td>\n      <td>FAVOR</td>\n      <td>When is abortion a responsible choice? When a ...</td>\n      <td>When is abortion a responsible choice? When a ...</td>\n      <td>Legalization of Abortion</td>\n      <td>FAVOR</td>\n    </tr>\n    <tr>\n      <th>2</th>\n      <td>RT @FrCharles: .@giannaberettamo @GiaMolla @sp...</td>\n      <td>Legalization of Abortion</td>\n      <td>NONE</td>\n      <td>.@giannaberettamo @GiaMolla @sphcs_news Happy ...</td>\n      <td>.@giannaberettamo @GiaMolla @sphcs_news Happy ...</td>\n      <td>Legalization of Abortion</td>\n      <td>AGAINST</td>\n    </tr>\n  </tbody>\n</table>\n</div>"
     },
     "execution_count": 26,
     "metadata": {},
     "output_type": "execute_result"
    }
   ],
   "source": [
    "df_RT_join_df = pd.merge(df_retweet, df, left_on=\"Tweet_no_RT\", right_on='Tweet', how='inner')\n",
    "df_RT_join_df[df_RT_join_df['Tweet_x'] != df_RT_join_df['Tweet_y']]"
   ],
   "metadata": {
    "collapsed": false,
    "ExecuteTime": {
     "end_time": "2023-10-07T17:45:23.238492Z",
     "start_time": "2023-10-07T17:45:23.153012Z"
    }
   },
   "id": "c27ff97f6947f2af"
  },
  {
   "cell_type": "markdown",
   "source": [
    "The above table shows that there are 3 RTs which is reposting the tweet in data set. It could be a data leakage if the tweet or RTs are in validation sets."
   ],
   "metadata": {
    "collapsed": false
   },
   "id": "72f70dde59574035"
  },
  {
   "cell_type": "code",
   "execution_count": 27,
   "outputs": [
    {
     "data": {
      "text/plain": "                                             Tweet_x  \\\n0  RT @DogsOfGod: I will fight for the unborn! #S...   \n\n                   Target_x Stance_x                          Tweet_no_RT  \\\n0  Legalization of Abortion  AGAINST  I will fight for the unborn! #SemST   \n\n                               Tweet_y                  Target_y Stance_y  \n0  I will fight for the unborn! #SemST  Legalization of Abortion  AGAINST  ",
      "text/html": "<div>\n<style scoped>\n    .dataframe tbody tr th:only-of-type {\n        vertical-align: middle;\n    }\n\n    .dataframe tbody tr th {\n        vertical-align: top;\n    }\n\n    .dataframe thead th {\n        text-align: right;\n    }\n</style>\n<table border=\"1\" class=\"dataframe\">\n  <thead>\n    <tr style=\"text-align: right;\">\n      <th></th>\n      <th>Tweet_x</th>\n      <th>Target_x</th>\n      <th>Stance_x</th>\n      <th>Tweet_no_RT</th>\n      <th>Tweet_y</th>\n      <th>Target_y</th>\n      <th>Stance_y</th>\n    </tr>\n  </thead>\n  <tbody>\n    <tr>\n      <th>0</th>\n      <td>RT @DogsOfGod: I will fight for the unborn! #S...</td>\n      <td>Legalization of Abortion</td>\n      <td>AGAINST</td>\n      <td>I will fight for the unborn! #SemST</td>\n      <td>I will fight for the unborn! #SemST</td>\n      <td>Legalization of Abortion</td>\n      <td>AGAINST</td>\n    </tr>\n  </tbody>\n</table>\n</div>"
     },
     "execution_count": 27,
     "metadata": {},
     "output_type": "execute_result"
    }
   ],
   "source": [
    "df_RT_join_df_test = pd.merge(df_retweet, df_test, left_on=\"Tweet_no_RT\", right_on='Tweet', how='inner')\n",
    "df_RT_join_df_test[df_RT_join_df_test['Tweet_x'] != df_RT_join_df_test['Tweet_y']]"
   ],
   "metadata": {
    "collapsed": false,
    "ExecuteTime": {
     "end_time": "2023-10-07T17:45:23.238619Z",
     "start_time": "2023-10-07T17:45:23.159787Z"
    }
   },
   "id": "65799bbdb3ffe086"
  },
  {
   "cell_type": "markdown",
   "source": [
    "The above table shows that there is 1 RT in training test which is reposting the tweet in testing data set. It is a data leakage. And, preprocessing with other RTs appearing in the training set must be done."
   ],
   "metadata": {
    "collapsed": false
   },
   "id": "3f83b4c06e9ad9a7"
  },
  {
   "cell_type": "markdown",
   "source": [
    "# PreProcessing"
   ],
   "metadata": {
    "collapsed": false
   },
   "id": "3396c8d4a46d8152"
  },
  {
   "cell_type": "markdown",
   "source": [
    "## 1. Removing Retweet with possible data leakage\n",
    "Retweet could be an issue of data leakage. A retweet in train set could be a tweet from test set . Or, a retweet in train set can be found as a tweet in train set (could be a validation set). "
   ],
   "metadata": {
    "collapsed": false
   },
   "id": "1ed341f3fc93f6d4"
  },
  {
   "cell_type": "markdown",
   "source": [
    "There are 3 RTs in the train set which repost a tweet from train set. And, there is 1 RT in the test set which repost a tweet from train set. It could be considered as a data leakage as the content is exactly the same. Therefore, the 4 RTs are deleted from the training set."
   ],
   "metadata": {
    "collapsed": false
   },
   "id": "27a3a3d37bfcec02"
  },
  {
   "cell_type": "code",
   "execution_count": 28,
   "outputs": [
    {
     "data": {
      "text/plain": "0    RT @WeAreFemstrong: Wonder what it'd be like t...\n1    RT @gbforchoice: When is abortion a responsibl...\n2    RT @FrCharles: .@giannaberettamo @GiaMolla @sp...\nName: Tweet_x, dtype: object"
     },
     "execution_count": 28,
     "metadata": {},
     "output_type": "execute_result"
    }
   ],
   "source": [
    "df_RT_join_df['Tweet_x']"
   ],
   "metadata": {
    "collapsed": false,
    "ExecuteTime": {
     "end_time": "2023-10-07T17:45:23.238720Z",
     "start_time": "2023-10-07T17:45:23.165459Z"
    }
   },
   "id": "e08f0b68e7c3582d"
  },
  {
   "cell_type": "code",
   "execution_count": 29,
   "outputs": [
    {
     "data": {
      "text/plain": "                                               Tweet           Target   Stance\n0  @tedcruz And, #HandOverTheServer she wiped cle...  Hillary Clinton  AGAINST\n1  Hillary is our best choice if we truly want to...  Hillary Clinton    FAVOR\n2  @TheView I think our country is ready for a fe...  Hillary Clinton  AGAINST\n3  I just gave an unhealthy amount of my hard-ear...  Hillary Clinton  AGAINST\n4  @PortiaABoulger Thank you for adding me to you...  Hillary Clinton     NONE",
      "text/html": "<div>\n<style scoped>\n    .dataframe tbody tr th:only-of-type {\n        vertical-align: middle;\n    }\n\n    .dataframe tbody tr th {\n        vertical-align: top;\n    }\n\n    .dataframe thead th {\n        text-align: right;\n    }\n</style>\n<table border=\"1\" class=\"dataframe\">\n  <thead>\n    <tr style=\"text-align: right;\">\n      <th></th>\n      <th>Tweet</th>\n      <th>Target</th>\n      <th>Stance</th>\n    </tr>\n  </thead>\n  <tbody>\n    <tr>\n      <th>0</th>\n      <td>@tedcruz And, #HandOverTheServer she wiped cle...</td>\n      <td>Hillary Clinton</td>\n      <td>AGAINST</td>\n    </tr>\n    <tr>\n      <th>1</th>\n      <td>Hillary is our best choice if we truly want to...</td>\n      <td>Hillary Clinton</td>\n      <td>FAVOR</td>\n    </tr>\n    <tr>\n      <th>2</th>\n      <td>@TheView I think our country is ready for a fe...</td>\n      <td>Hillary Clinton</td>\n      <td>AGAINST</td>\n    </tr>\n    <tr>\n      <th>3</th>\n      <td>I just gave an unhealthy amount of my hard-ear...</td>\n      <td>Hillary Clinton</td>\n      <td>AGAINST</td>\n    </tr>\n    <tr>\n      <th>4</th>\n      <td>@PortiaABoulger Thank you for adding me to you...</td>\n      <td>Hillary Clinton</td>\n      <td>NONE</td>\n    </tr>\n  </tbody>\n</table>\n</div>"
     },
     "execution_count": 29,
     "metadata": {},
     "output_type": "execute_result"
    }
   ],
   "source": [
    "df_remove_RT = df[~df['Tweet'].isin(df_RT_join_df['Tweet_x'])]\n",
    "df_remove_RT = df_remove_RT[~df_remove_RT['Tweet'].isin(df_RT_join_df_test['Tweet_x'])]\n",
    "df_remove_RT.reset_index()\n",
    "df_remove_RT.head()"
   ],
   "metadata": {
    "collapsed": false,
    "ExecuteTime": {
     "end_time": "2023-10-07T17:45:23.238858Z",
     "start_time": "2023-10-07T17:45:23.172922Z"
    }
   },
   "id": "caeeab083bcb7fa3"
  },
  {
   "cell_type": "markdown",
   "source": [
    "## 2. Tokenizer\n",
    "There are 2 tokenizers could be considered in the task.\n",
    "1. TweetTokenizer from ntlk\n",
    "2. Tokenizer from keras"
   ],
   "metadata": {
    "collapsed": false
   },
   "id": "83bbdefbd519e2a7"
  },
  {
   "cell_type": "code",
   "execution_count": 30,
   "outputs": [],
   "source": [
    "# Tokenize by TweetTokenizer from nltk\n",
    "def tokenize_series(series):\n",
    "    tweet_tokenizer = TweetTokenizer(reduce_len=True)\n",
    "    return [tweet_tokenizer.tokenize(words) for words in series.to_numpy()]"
   ],
   "metadata": {
    "collapsed": false,
    "ExecuteTime": {
     "end_time": "2023-10-07T17:45:23.238902Z",
     "start_time": "2023-10-07T17:45:23.178295Z"
    }
   },
   "id": "b0e16c27d7379493"
  },
  {
   "cell_type": "code",
   "execution_count": 31,
   "outputs": [
    {
     "name": "stdout",
     "output_type": "stream",
     "text": [
      "Tokens by Tweet Tokenizer: [['@tedcruz', 'And', ',', '#HandOverTheServer', 'she', 'wiped', 'clean', '+', '30k', 'deleted', 'emails', ',', 'explains', 'dereliction', 'of', 'duty', '/', 'lies', 're', '#Benghazi', ',', 'etc', '#tcot'], ['Hillary', 'is', 'our', 'best', 'choice', 'if', 'we', 'truly', 'want', 'to', 'continue', 'being', 'a', 'progressive', 'nation', '.', '#Ohio']]\n"
     ]
    }
   ],
   "source": [
    "tokenized_tweets = tokenize_series(df_remove_RT['Tweet'])\n",
    "print(f'Tokens by Tweet Tokenizer: {tokenized_tweets[:2]}')"
   ],
   "metadata": {
    "collapsed": false,
    "ExecuteTime": {
     "end_time": "2023-10-07T17:45:23.605447Z",
     "start_time": "2023-10-07T17:45:23.181002Z"
    }
   },
   "id": "58a398a52dc8a5d3"
  },
  {
   "cell_type": "code",
   "execution_count": 32,
   "outputs": [],
   "source": [
    "tokenized_targets = tokenize_series(df_remove_RT['Target'])"
   ],
   "metadata": {
    "collapsed": false,
    "ExecuteTime": {
     "end_time": "2023-10-07T17:45:23.676508Z",
     "start_time": "2023-10-07T17:45:23.330742Z"
    }
   },
   "id": "5845e1c2f10c9bf7"
  },
  {
   "cell_type": "code",
   "execution_count": 33,
   "outputs": [
    {
     "name": "stdout",
     "output_type": "stream",
     "text": [
      "Tokens by Tweet Tokenizer: ['@tedcruz', 'And,', '#HandOverTheServer', 'she', 'wiped', 'clean', '+', '30k', 'deleted', 'emails,', 'explains', 'dereliction', 'of', 'duty/lies', 're', '#Benghazi,etc', '#tcot', 'Hillary', 'is', 'our', 'best', 'choice', 'if', 'we', 'truly', 'want', 'to', 'continue', 'being', 'a', 'progressive', 'nation.', '#Ohio']\n"
     ]
    }
   ],
   "source": [
    "# Tokenize by Tokenizer from Keras\n",
    "tokenizer = Tokenizer(lower=False, filters=\"\")\n",
    "tokenizer.fit_on_texts(df_remove_RT['Tweet'].to_numpy()[:2])\n",
    "\n",
    "word_index = tokenizer.word_index\n",
    "\n",
    "t = [\"\".join(tokens) for tokens, index in word_index.items()]\n",
    "print(f'Tokens by Tweet Tokenizer: {t}')"
   ],
   "metadata": {
    "collapsed": false,
    "ExecuteTime": {
     "end_time": "2023-10-07T17:45:23.686584Z",
     "start_time": "2023-10-07T17:45:23.369005Z"
    }
   },
   "id": "5954f0706b456229"
  },
  {
   "cell_type": "markdown",
   "source": [
    "Tokenizer from Keras will filter all punctuations by default. Important symbols like \"#\" & \"@\" in a tweet are also removed. Although the filter can be set by passing an empty string, it treats combination of symbols like \":-)\" as 3 separate tokens (i.e. [':', '-', ')']).\n",
    " \n",
    "TweetTokenizer will not remove any punctuations, and it takes hashtag and mention as a token. It treats combination of symbols as a single token which make more sense.\n",
    "\n",
    "TweetTokenizer is chosen and manually filter out single punctuation token."
   ],
   "metadata": {
    "collapsed": false
   },
   "id": "538f0b8dfd47b5ea"
  },
  {
   "cell_type": "code",
   "execution_count": 34,
   "outputs": [
    {
     "name": "stdout",
     "output_type": "stream",
     "text": [
      "['@tedcruz', 'And', '#HandOverTheServer', 'she', 'wiped', 'clean', '30k', 'deleted', 'emails', 'explains', 'dereliction', 'of', 'duty', 'lies', 're', '#Benghazi', 'etc', '#tcot']\n",
      "['Hillary', 'is', 'our', 'best', 'choice', 'if', 'we', 'truly', 'want', 'to', 'continue', 'being', 'a', 'progressive', 'nation', '#Ohio']\n"
     ]
    }
   ],
   "source": [
    "def filter_single_punctuation(tokens):\n",
    "    filtered_tokens = []\n",
    "    for token in tokens:\n",
    "        if not re.match(r\"^\\W$\", token):\n",
    "            filtered_tokens.append(token)\n",
    "    return filtered_tokens\n",
    "\n",
    "filtered_tweets = [filter_single_punctuation(tokens) for tokens in tokenized_tweets]\n",
    "\n",
    "for tokens in filtered_tweets[:2]:\n",
    "    print(tokens)\n"
   ],
   "metadata": {
    "collapsed": false,
    "ExecuteTime": {
     "end_time": "2023-10-07T17:45:23.687776Z",
     "start_time": "2023-10-07T17:45:23.389796Z"
    }
   },
   "id": "c5ae773d0a6cbe68"
  },
  {
   "cell_type": "markdown",
   "source": [
    "## 3. HashTag\n",
    "\n",
    "### Splitting Hashtag and Mention as other rows of data\n",
    "As hashtag can be a phrases and it usually a combination of more than a word, it could be a challenge task for a neural network to handle them. Usually a tweet without hashtags could have its own meaning. And, a hashtag could also have its own meaning. "
   ],
   "metadata": {
    "collapsed": false
   },
   "id": "226f1e37cef41fc5"
  },
  {
   "cell_type": "code",
   "execution_count": 35,
   "outputs": [
    {
     "name": "stdout",
     "output_type": "stream",
     "text": [
      "[['#HandOverTheServer', '#Benghazi', '#tcot'], ['#Ohio']]\n",
      "[['@tedcruz'], []]\n",
      "[['And', 'she', 'wiped', 'clean', '30k', 'deleted', 'emails', 'explains', 'dereliction', 'of', 'duty', 'lies', 're', 'etc'], ['Hillary', 'is', 'our', 'best', 'choice', 'if', 'we', 'truly', 'want', 'to', 'continue', 'being', 'a', 'progressive', 'nation']]\n"
     ]
    }
   ],
   "source": [
    "def extract_hashtag_mentions(tweets):\n",
    "    all_hashtags = []\n",
    "    all_mentions = []\n",
    "    all_normal_words = []\n",
    "    \n",
    "    for tokens in tweets:\n",
    "        hashtags = []\n",
    "        mentions = []\n",
    "        normal_words = []\n",
    "        for token in tokens:\n",
    "            if token.startswith(\"#\"):\n",
    "                if token != \"#SemST\":   # exclude hashtag \"#SemST\"\n",
    "                    hashtags.append(token)\n",
    "            elif token.startswith(\"@\"):\n",
    "                mentions.append(token)\n",
    "            else:\n",
    "                normal_words.append(token)\n",
    "        all_hashtags.append(hashtags)\n",
    "        all_mentions.append(mentions)\n",
    "        all_normal_words.append(normal_words)\n",
    "    \n",
    "    return (all_hashtags, all_mentions, all_normal_words)\n",
    "\n",
    "all_hashtags, all_mentions, all_normal_words = extract_hashtag_mentions(filtered_tweets)\n",
    "print(all_hashtags[:2])\n",
    "print(all_mentions[:2])\n",
    "print(all_normal_words[:2])"
   ],
   "metadata": {
    "collapsed": false,
    "ExecuteTime": {
     "end_time": "2023-10-07T17:45:23.687861Z",
     "start_time": "2023-10-07T17:45:23.401167Z"
    }
   },
   "id": "25e33fe057991024"
  },
  {
   "cell_type": "markdown",
   "source": [
    "### Preprocessing Hashtags\n",
    " Excluding hashtag \"#SemST\" as it is a tag for collecting data, all tweets in dataset should have it, and it tells nothing about stance. Removing them to save processing power and prevent the network to have vanishing gradient issue. The model could also be overfitted by not generalising the tags. "
   ],
   "metadata": {
    "collapsed": false
   },
   "id": "fc29d1e07853f7a6"
  },
  {
   "cell_type": "code",
   "execution_count": 36,
   "outputs": [
    {
     "data": {
      "text/plain": "   index                                              Tweet           Target  \\\n0      0  @tedcruz And, #HandOverTheServer she wiped cle...  Hillary Clinton   \n1      1  Hillary is our best choice if we truly want to...  Hillary Clinton   \n2      2  @TheView I think our country is ready for a fe...  Hillary Clinton   \n3      3  I just gave an unhealthy amount of my hard-ear...  Hillary Clinton   \n4      4  @PortiaABoulger Thank you for adding me to you...  Hillary Clinton   \n\n    Stance                                 Hashtag            Mention  \\\n0  AGAINST  [#HandOverTheServer, #Benghazi, #tcot]         [@tedcruz]   \n1    FAVOR                                 [#Ohio]                 []   \n2  AGAINST                                      []         [@TheView]   \n3  AGAINST             [#WhyImNotVotingForHillary]                 []   \n4     NONE                                      []  [@PortiaABoulger]   \n\n                                     Tokenized_Tweet    Tokenized_Target  \n0  [And, she, wiped, clean, 30k, deleted, emails,...  [Hillary, Clinton]  \n1  [Hillary, is, our, best, choice, if, we, truly...  [Hillary, Clinton]  \n2  [I, think, our, country, is, ready, for, a, fe...  [Hillary, Clinton]  \n3  [I, just, gave, an, unhealthy, amount, of, my,...  [Hillary, Clinton]  \n4      [Thank, you, for, adding, me, to, your, list]  [Hillary, Clinton]  ",
      "text/html": "<div>\n<style scoped>\n    .dataframe tbody tr th:only-of-type {\n        vertical-align: middle;\n    }\n\n    .dataframe tbody tr th {\n        vertical-align: top;\n    }\n\n    .dataframe thead th {\n        text-align: right;\n    }\n</style>\n<table border=\"1\" class=\"dataframe\">\n  <thead>\n    <tr style=\"text-align: right;\">\n      <th></th>\n      <th>index</th>\n      <th>Tweet</th>\n      <th>Target</th>\n      <th>Stance</th>\n      <th>Hashtag</th>\n      <th>Mention</th>\n      <th>Tokenized_Tweet</th>\n      <th>Tokenized_Target</th>\n    </tr>\n  </thead>\n  <tbody>\n    <tr>\n      <th>0</th>\n      <td>0</td>\n      <td>@tedcruz And, #HandOverTheServer she wiped cle...</td>\n      <td>Hillary Clinton</td>\n      <td>AGAINST</td>\n      <td>[#HandOverTheServer, #Benghazi, #tcot]</td>\n      <td>[@tedcruz]</td>\n      <td>[And, she, wiped, clean, 30k, deleted, emails,...</td>\n      <td>[Hillary, Clinton]</td>\n    </tr>\n    <tr>\n      <th>1</th>\n      <td>1</td>\n      <td>Hillary is our best choice if we truly want to...</td>\n      <td>Hillary Clinton</td>\n      <td>FAVOR</td>\n      <td>[#Ohio]</td>\n      <td>[]</td>\n      <td>[Hillary, is, our, best, choice, if, we, truly...</td>\n      <td>[Hillary, Clinton]</td>\n    </tr>\n    <tr>\n      <th>2</th>\n      <td>2</td>\n      <td>@TheView I think our country is ready for a fe...</td>\n      <td>Hillary Clinton</td>\n      <td>AGAINST</td>\n      <td>[]</td>\n      <td>[@TheView]</td>\n      <td>[I, think, our, country, is, ready, for, a, fe...</td>\n      <td>[Hillary, Clinton]</td>\n    </tr>\n    <tr>\n      <th>3</th>\n      <td>3</td>\n      <td>I just gave an unhealthy amount of my hard-ear...</td>\n      <td>Hillary Clinton</td>\n      <td>AGAINST</td>\n      <td>[#WhyImNotVotingForHillary]</td>\n      <td>[]</td>\n      <td>[I, just, gave, an, unhealthy, amount, of, my,...</td>\n      <td>[Hillary, Clinton]</td>\n    </tr>\n    <tr>\n      <th>4</th>\n      <td>4</td>\n      <td>@PortiaABoulger Thank you for adding me to you...</td>\n      <td>Hillary Clinton</td>\n      <td>NONE</td>\n      <td>[]</td>\n      <td>[@PortiaABoulger]</td>\n      <td>[Thank, you, for, adding, me, to, your, list]</td>\n      <td>[Hillary, Clinton]</td>\n    </tr>\n  </tbody>\n</table>\n</div>"
     },
     "execution_count": 36,
     "metadata": {},
     "output_type": "execute_result"
    }
   ],
   "source": [
    "df_tokenized = pd.concat([df_remove_RT.reset_index(), pd.Series(all_hashtags, name='Hashtag')], axis=1)\n",
    "df_tokenized = pd.concat([df_tokenized, pd.Series(all_mentions, name='Mention')], axis=1)\n",
    "df_tokenized = pd.concat([df_tokenized, pd.Series(all_normal_words, name='Tokenized_Tweet')], axis=1)\n",
    "df_tokenized = pd.concat([df_tokenized, pd.Series(tokenized_targets, name='Tokenized_Target')], axis=1)\n",
    "# len(df_tokenized)\n",
    "df_tokenized.head()"
   ],
   "metadata": {
    "collapsed": false,
    "ExecuteTime": {
     "end_time": "2023-10-07T17:45:23.688092Z",
     "start_time": "2023-10-07T17:45:23.406245Z"
    }
   },
   "id": "17bac5975c74d561"
  },
  {
   "cell_type": "markdown",
   "source": [
    "### Pascal Case & Camel Case in hashtags\n",
    "\n",
    "Do not run a RNN for character to character as it requires much more processing power. Preprocessing it by handling Pascal and Camel Case with Fasttext embedding. \n",
    "\n",
    "e.g. \n",
    "WhyImNotVotingForHillary -> Why Im Not Voting For Hillary\n",
    "HOLYCRAPThatsGoodNews -> HOLYCRAPThats Good News\n",
    "\n",
    "There may have some issue on missing splitting with some words like example 2. It could be handled with Fasttext embedding as it considered sub-word information (character n-grams). It could handle out-of-vocabulary words."
   ],
   "metadata": {
    "collapsed": false
   },
   "id": "eb681ebbf0245206"
  },
  {
   "cell_type": "code",
   "execution_count": 37,
   "outputs": [
    {
     "name": "stdout",
     "output_type": "stream",
     "text": [
      "\"WhyImNotVotingFor2016Hillary2016\" to \"why im not voting for 2016 hillary 2016\" after processing.\n"
     ]
    }
   ],
   "source": [
    "def pascal_to_word(s):\n",
    "    s = re.sub(r'([a-z0-9])([A-Z])', r'\\1 \\2', s)#.lower()\n",
    "    s = re.sub(r'([A-Z])([0-9])', r'\\1 \\2', s)#.lower()\n",
    "    return re.sub(r'([a-zA-Z])([0-9])', r'\\1 \\2', s).lower()\n",
    "\n",
    "# pascal_case_str = df_tokenized['HashTags'][0][0][1:] # remove \"#\" at the 1st character\n",
    "pascal_case_str = \"WhyImNotVotingFor2016Hillary2016\"\n",
    "words = pascal_to_word(pascal_case_str)\n",
    "print(f'\"{pascal_case_str}\" to \"{words}\" after processing.')"
   ],
   "metadata": {
    "collapsed": false,
    "ExecuteTime": {
     "end_time": "2023-10-07T17:45:23.688172Z",
     "start_time": "2023-10-07T17:45:23.414704Z"
    }
   },
   "id": "277071f73e807848"
  },
  {
   "cell_type": "code",
   "execution_count": 38,
   "outputs": [
    {
     "data": {
      "text/plain": "   index                                              Tweet           Target  \\\n0      0  @tedcruz And, #HandOverTheServer she wiped cle...  Hillary Clinton   \n1      1  Hillary is our best choice if we truly want to...  Hillary Clinton   \n2      2  @TheView I think our country is ready for a fe...  Hillary Clinton   \n3      3  I just gave an unhealthy amount of my hard-ear...  Hillary Clinton   \n4      4  @PortiaABoulger Thank you for adding me to you...  Hillary Clinton   \n\n    Stance                                 Hashtag            Mention  \\\n0  AGAINST  [#HandOverTheServer, #Benghazi, #tcot]         [@tedcruz]   \n1    FAVOR                                 [#Ohio]                 []   \n2  AGAINST                                      []         [@TheView]   \n3  AGAINST             [#WhyImNotVotingForHillary]                 []   \n4     NONE                                      []  [@PortiaABoulger]   \n\n                                     Tokenized_Tweet    Tokenized_Target  \\\n0  [And, she, wiped, clean, 30k, deleted, emails,...  [Hillary, Clinton]   \n1  [Hillary, is, our, best, choice, if, we, truly...  [Hillary, Clinton]   \n2  [I, think, our, country, is, ready, for, a, fe...  [Hillary, Clinton]   \n3  [I, just, gave, an, unhealthy, amount, of, my,...  [Hillary, Clinton]   \n4      [Thank, you, for, adding, me, to, your, list]  [Hillary, Clinton]   \n\n                        Tokenized_Hashtag  \n0  [hand over the server, benghazi, tcot]  \n1                                  [ohio]  \n2                                      []  \n3         [why im not voting for hillary]  \n4                                      []  ",
      "text/html": "<div>\n<style scoped>\n    .dataframe tbody tr th:only-of-type {\n        vertical-align: middle;\n    }\n\n    .dataframe tbody tr th {\n        vertical-align: top;\n    }\n\n    .dataframe thead th {\n        text-align: right;\n    }\n</style>\n<table border=\"1\" class=\"dataframe\">\n  <thead>\n    <tr style=\"text-align: right;\">\n      <th></th>\n      <th>index</th>\n      <th>Tweet</th>\n      <th>Target</th>\n      <th>Stance</th>\n      <th>Hashtag</th>\n      <th>Mention</th>\n      <th>Tokenized_Tweet</th>\n      <th>Tokenized_Target</th>\n      <th>Tokenized_Hashtag</th>\n    </tr>\n  </thead>\n  <tbody>\n    <tr>\n      <th>0</th>\n      <td>0</td>\n      <td>@tedcruz And, #HandOverTheServer she wiped cle...</td>\n      <td>Hillary Clinton</td>\n      <td>AGAINST</td>\n      <td>[#HandOverTheServer, #Benghazi, #tcot]</td>\n      <td>[@tedcruz]</td>\n      <td>[And, she, wiped, clean, 30k, deleted, emails,...</td>\n      <td>[Hillary, Clinton]</td>\n      <td>[hand over the server, benghazi, tcot]</td>\n    </tr>\n    <tr>\n      <th>1</th>\n      <td>1</td>\n      <td>Hillary is our best choice if we truly want to...</td>\n      <td>Hillary Clinton</td>\n      <td>FAVOR</td>\n      <td>[#Ohio]</td>\n      <td>[]</td>\n      <td>[Hillary, is, our, best, choice, if, we, truly...</td>\n      <td>[Hillary, Clinton]</td>\n      <td>[ohio]</td>\n    </tr>\n    <tr>\n      <th>2</th>\n      <td>2</td>\n      <td>@TheView I think our country is ready for a fe...</td>\n      <td>Hillary Clinton</td>\n      <td>AGAINST</td>\n      <td>[]</td>\n      <td>[@TheView]</td>\n      <td>[I, think, our, country, is, ready, for, a, fe...</td>\n      <td>[Hillary, Clinton]</td>\n      <td>[]</td>\n    </tr>\n    <tr>\n      <th>3</th>\n      <td>3</td>\n      <td>I just gave an unhealthy amount of my hard-ear...</td>\n      <td>Hillary Clinton</td>\n      <td>AGAINST</td>\n      <td>[#WhyImNotVotingForHillary]</td>\n      <td>[]</td>\n      <td>[I, just, gave, an, unhealthy, amount, of, my,...</td>\n      <td>[Hillary, Clinton]</td>\n      <td>[why im not voting for hillary]</td>\n    </tr>\n    <tr>\n      <th>4</th>\n      <td>4</td>\n      <td>@PortiaABoulger Thank you for adding me to you...</td>\n      <td>Hillary Clinton</td>\n      <td>NONE</td>\n      <td>[]</td>\n      <td>[@PortiaABoulger]</td>\n      <td>[Thank, you, for, adding, me, to, your, list]</td>\n      <td>[Hillary, Clinton]</td>\n      <td>[]</td>\n    </tr>\n  </tbody>\n</table>\n</div>"
     },
     "execution_count": 38,
     "metadata": {},
     "output_type": "execute_result"
    }
   ],
   "source": [
    "df_tokenized['Tokenized_Hashtag'] = df_tokenized['Hashtag'].apply(lambda arr: [pascal_to_word(s[1:]) for s in arr])\n",
    "df_tokenized.head()"
   ],
   "metadata": {
    "collapsed": false,
    "ExecuteTime": {
     "end_time": "2023-10-07T17:45:23.688336Z",
     "start_time": "2023-10-07T17:45:23.429842Z"
    }
   },
   "id": "1e5318d8c3d447e8"
  },
  {
   "cell_type": "markdown",
   "source": [
    "## 4. Removing Retweet symbols & masking mention\n",
    "\n",
    "Retweet symbols does not bring any meaning to the tweet. It may contain values with retweeting by some user. The username may be treated as favor or against to particular target. But, the task is to classify a tweet stance by a single tweet. A mention in a tweet should have no meaning on stance. Let's take a sample of @HillaryClinton. Tweets mentioned @HillaryClinton could be favor or against. They are depends on other words but not the mention. Therefore, retweet symbols and mentions will be removed. "
   ],
   "metadata": {
    "collapsed": false
   },
   "id": "8d50a415fe1333bd"
  },
  {
   "cell_type": "code",
   "execution_count": 39,
   "outputs": [
    {
     "data": {
      "text/plain": "      index                                              Tweet  \\\n0         0  @tedcruz And, #HandOverTheServer she wiped cle...   \n1         1  Hillary is our best choice if we truly want to...   \n2         2  @TheView I think our country is ready for a fe...   \n3         3  I just gave an unhealthy amount of my hard-ear...   \n4         4  @PortiaABoulger Thank you for adding me to you...   \n...     ...                                                ...   \n2905   2909  There's a law protecting unborn eagles, but no...   \n2906   2910  I am 1 in 3... I have had an abortion #Abortio...   \n2907   2911  How dare you say my sexual preference is a cho...   \n2908   2912  Equal rights for those 'born that way', no rig...   \n2909   2913  #POTUS seals his legacy w/ 1/2 doz wins. The #...   \n\n                        Target   Stance  \\\n0              Hillary Clinton  AGAINST   \n1              Hillary Clinton    FAVOR   \n2              Hillary Clinton  AGAINST   \n3              Hillary Clinton  AGAINST   \n4              Hillary Clinton     NONE   \n...                        ...      ...   \n2905  Legalization of Abortion  AGAINST   \n2906  Legalization of Abortion  AGAINST   \n2907  Legalization of Abortion  AGAINST   \n2908  Legalization of Abortion  AGAINST   \n2909  Legalization of Abortion  AGAINST   \n\n                                                Hashtag            Mention  \\\n0                [#HandOverTheServer, #Benghazi, #tcot]         [@tedcruz]   \n1                                               [#Ohio]                 []   \n2                                                    []         [@TheView]   \n3                           [#WhyImNotVotingForHillary]                 []   \n4                                                    []  [@PortiaABoulger]   \n...                                                 ...                ...   \n2905                                                 []                 []   \n2906          [#AbortionOnDemand, #MenstruationMatters]                 []   \n2907                                      [#liberalism]                 []   \n2908                [#LiberalLogic, #liberalism, #life]                 []   \n2909  [#POTUS, #GOP, #Gun, #Obamacare, #TotalLosers,...                 []   \n\n                                        Tokenized_Tweet  \\\n0     [And, she, wiped, clean, 30k, deleted, emails,...   \n1     [Hillary, is, our, best, choice, if, we, truly...   \n2     [I, think, our, country, is, ready, for, a, fe...   \n3     [I, just, gave, an, unhealthy, amount, of, my,...   \n4         [Thank, you, for, adding, me, to, your, list]   \n...                                                 ...   \n2905  [There's, a, law, protecting, unborn, eagles, ...   \n2906  [I, am, 1, in, 3, ..., I, have, had, an, abort...   \n2907  [How, dare, you, say, my, sexual, preference, ...   \n2908  [Equal, rights, for, those, born, that, way, n...   \n2909  [seals, his, legacy, w, 1/2, doz, wins, The, a...   \n\n                  Tokenized_Target  \\\n0               [Hillary, Clinton]   \n1               [Hillary, Clinton]   \n2               [Hillary, Clinton]   \n3               [Hillary, Clinton]   \n4               [Hillary, Clinton]   \n...                            ...   \n2905  [Legalization, of, Abortion]   \n2906  [Legalization, of, Abortion]   \n2907  [Legalization, of, Abortion]   \n2908  [Legalization, of, Abortion]   \n2909  [Legalization, of, Abortion]   \n\n                                      Tokenized_Hashtag  \n0                [hand over the server, benghazi, tcot]  \n1                                                [ohio]  \n2                                                    []  \n3                       [why im not voting for hillary]  \n4                                                    []  \n...                                                 ...  \n2905                                                 []  \n2906         [abortion on demand, menstruation matters]  \n2907                                       [liberalism]  \n2908                  [liberal logic, liberalism, life]  \n2909  [potus, gop, gun, obamacare, total losers, no ...  \n\n[2910 rows x 9 columns]",
      "text/html": "<div>\n<style scoped>\n    .dataframe tbody tr th:only-of-type {\n        vertical-align: middle;\n    }\n\n    .dataframe tbody tr th {\n        vertical-align: top;\n    }\n\n    .dataframe thead th {\n        text-align: right;\n    }\n</style>\n<table border=\"1\" class=\"dataframe\">\n  <thead>\n    <tr style=\"text-align: right;\">\n      <th></th>\n      <th>index</th>\n      <th>Tweet</th>\n      <th>Target</th>\n      <th>Stance</th>\n      <th>Hashtag</th>\n      <th>Mention</th>\n      <th>Tokenized_Tweet</th>\n      <th>Tokenized_Target</th>\n      <th>Tokenized_Hashtag</th>\n    </tr>\n  </thead>\n  <tbody>\n    <tr>\n      <th>0</th>\n      <td>0</td>\n      <td>@tedcruz And, #HandOverTheServer she wiped cle...</td>\n      <td>Hillary Clinton</td>\n      <td>AGAINST</td>\n      <td>[#HandOverTheServer, #Benghazi, #tcot]</td>\n      <td>[@tedcruz]</td>\n      <td>[And, she, wiped, clean, 30k, deleted, emails,...</td>\n      <td>[Hillary, Clinton]</td>\n      <td>[hand over the server, benghazi, tcot]</td>\n    </tr>\n    <tr>\n      <th>1</th>\n      <td>1</td>\n      <td>Hillary is our best choice if we truly want to...</td>\n      <td>Hillary Clinton</td>\n      <td>FAVOR</td>\n      <td>[#Ohio]</td>\n      <td>[]</td>\n      <td>[Hillary, is, our, best, choice, if, we, truly...</td>\n      <td>[Hillary, Clinton]</td>\n      <td>[ohio]</td>\n    </tr>\n    <tr>\n      <th>2</th>\n      <td>2</td>\n      <td>@TheView I think our country is ready for a fe...</td>\n      <td>Hillary Clinton</td>\n      <td>AGAINST</td>\n      <td>[]</td>\n      <td>[@TheView]</td>\n      <td>[I, think, our, country, is, ready, for, a, fe...</td>\n      <td>[Hillary, Clinton]</td>\n      <td>[]</td>\n    </tr>\n    <tr>\n      <th>3</th>\n      <td>3</td>\n      <td>I just gave an unhealthy amount of my hard-ear...</td>\n      <td>Hillary Clinton</td>\n      <td>AGAINST</td>\n      <td>[#WhyImNotVotingForHillary]</td>\n      <td>[]</td>\n      <td>[I, just, gave, an, unhealthy, amount, of, my,...</td>\n      <td>[Hillary, Clinton]</td>\n      <td>[why im not voting for hillary]</td>\n    </tr>\n    <tr>\n      <th>4</th>\n      <td>4</td>\n      <td>@PortiaABoulger Thank you for adding me to you...</td>\n      <td>Hillary Clinton</td>\n      <td>NONE</td>\n      <td>[]</td>\n      <td>[@PortiaABoulger]</td>\n      <td>[Thank, you, for, adding, me, to, your, list]</td>\n      <td>[Hillary, Clinton]</td>\n      <td>[]</td>\n    </tr>\n    <tr>\n      <th>...</th>\n      <td>...</td>\n      <td>...</td>\n      <td>...</td>\n      <td>...</td>\n      <td>...</td>\n      <td>...</td>\n      <td>...</td>\n      <td>...</td>\n      <td>...</td>\n    </tr>\n    <tr>\n      <th>2905</th>\n      <td>2909</td>\n      <td>There's a law protecting unborn eagles, but no...</td>\n      <td>Legalization of Abortion</td>\n      <td>AGAINST</td>\n      <td>[]</td>\n      <td>[]</td>\n      <td>[There's, a, law, protecting, unborn, eagles, ...</td>\n      <td>[Legalization, of, Abortion]</td>\n      <td>[]</td>\n    </tr>\n    <tr>\n      <th>2906</th>\n      <td>2910</td>\n      <td>I am 1 in 3... I have had an abortion #Abortio...</td>\n      <td>Legalization of Abortion</td>\n      <td>AGAINST</td>\n      <td>[#AbortionOnDemand, #MenstruationMatters]</td>\n      <td>[]</td>\n      <td>[I, am, 1, in, 3, ..., I, have, had, an, abort...</td>\n      <td>[Legalization, of, Abortion]</td>\n      <td>[abortion on demand, menstruation matters]</td>\n    </tr>\n    <tr>\n      <th>2907</th>\n      <td>2911</td>\n      <td>How dare you say my sexual preference is a cho...</td>\n      <td>Legalization of Abortion</td>\n      <td>AGAINST</td>\n      <td>[#liberalism]</td>\n      <td>[]</td>\n      <td>[How, dare, you, say, my, sexual, preference, ...</td>\n      <td>[Legalization, of, Abortion]</td>\n      <td>[liberalism]</td>\n    </tr>\n    <tr>\n      <th>2908</th>\n      <td>2912</td>\n      <td>Equal rights for those 'born that way', no rig...</td>\n      <td>Legalization of Abortion</td>\n      <td>AGAINST</td>\n      <td>[#LiberalLogic, #liberalism, #life]</td>\n      <td>[]</td>\n      <td>[Equal, rights, for, those, born, that, way, n...</td>\n      <td>[Legalization, of, Abortion]</td>\n      <td>[liberal logic, liberalism, life]</td>\n    </tr>\n    <tr>\n      <th>2909</th>\n      <td>2913</td>\n      <td>#POTUS seals his legacy w/ 1/2 doz wins. The #...</td>\n      <td>Legalization of Abortion</td>\n      <td>AGAINST</td>\n      <td>[#POTUS, #GOP, #Gun, #Obamacare, #TotalLosers,...</td>\n      <td>[]</td>\n      <td>[seals, his, legacy, w, 1/2, doz, wins, The, a...</td>\n      <td>[Legalization, of, Abortion]</td>\n      <td>[potus, gop, gun, obamacare, total losers, no ...</td>\n    </tr>\n  </tbody>\n</table>\n<p>2910 rows × 9 columns</p>\n</div>"
     },
     "execution_count": 39,
     "metadata": {},
     "output_type": "execute_result"
    }
   ],
   "source": [
    "def remove_rt_prefix(tweet):\n",
    "    if len(tweet) > 0 and tweet[0].startswith(\"RT\"):\n",
    "        tweet.pop(0)  # Remove the first element if it starts with \"RT\"\n",
    "    return tweet\n",
    "\n",
    "df_tokenized['Tokenized_Tweet'] = df_tokenized['Tokenized_Tweet'].apply(remove_rt_prefix)\n",
    "df_tokenized"
   ],
   "metadata": {
    "collapsed": false,
    "ExecuteTime": {
     "end_time": "2023-10-07T17:45:23.688616Z",
     "start_time": "2023-10-07T17:45:23.447359Z"
    }
   },
   "id": "a9cf91dd82028cf6"
  },
  {
   "cell_type": "markdown",
   "source": [
    "There are 92 retweet filtered out. There could be more RTs as this is using the suggested pattern from X.  "
   ],
   "metadata": {
    "collapsed": false
   },
   "id": "28dee194cd4d3f08"
  },
  {
   "cell_type": "markdown",
   "source": [
    "## 5. Data Augmentation and OverSampling\n",
    "\n",
    "ContextualWordEmbsAug, SynonymAug, BackTranslationAug\n",
    "\n",
    "model_path: ‘bert-base-uncased’, ‘bert-base-cased’, ‘distilbert-base-uncased’, ‘roberta-base’, ‘distilroberta-base’,\n",
    "action:  ‘insert or ‘substitute’."
   ],
   "metadata": {
    "collapsed": false
   },
   "id": "cdca323b4a928a77"
  },
  {
   "cell_type": "code",
   "execution_count": null,
   "outputs": [],
   "source": [
    "aug = naw.ContextualWordEmbsAug(model_path='bert-base-cased', action=\"substitute\", device=\"cuda\")\n",
    "augmented_tweet = aug.augment(df_tokenized['Tweet'][0], 3)\n",
    "\n",
    "print(df_tokenized['Tweet'][0])\n",
    "print(augmented_tweet)"
   ],
   "metadata": {
    "collapsed": false
   },
   "id": "4194ac06b23d2cf6"
  },
  {
   "cell_type": "code",
   "execution_count": null,
   "outputs": [],
   "source": [
    "tokenized_tweet = \" \".join(df_tokenized['Tokenized_Tweet'][0])\n",
    "augmented_tokenized_tweet = aug.augment(tokenized_tweet, 3)\n",
    "\n",
    "print(tokenized_tweet)\n",
    "print(augmented_tokenized_tweet)"
   ],
   "metadata": {
    "collapsed": false
   },
   "id": "2a4d94cb95db7454"
  },
  {
   "cell_type": "code",
   "execution_count": 40,
   "outputs": [
    {
     "data": {
      "text/plain": "                              Target   Stance  Count  Percentage  Target_Max  \\\n0                            Atheism  AGAINST    304   59.259259         304   \n1                            Atheism    FAVOR     92   17.933723         304   \n2                            Atheism     NONE    117   22.807018         304   \n3   Climate Change is a Real Concern  AGAINST     15    3.797468         212   \n4   Climate Change is a Real Concern    FAVOR    212   53.670886         212   \n5   Climate Change is a Real Concern     NONE    168   42.531646         212   \n6                  Feminist Movement  AGAINST    328   49.397590         328   \n7                  Feminist Movement    FAVOR    210   31.626506         328   \n8                  Feminist Movement     NONE    126   18.975904         328   \n9                    Hillary Clinton  AGAINST    393   57.039187         393   \n10                   Hillary Clinton    FAVOR    118   17.126270         393   \n11                   Hillary Clinton     NONE    178   25.834543         393   \n12          Legalization of Abortion  AGAINST    355   54.364472         355   \n13          Legalization of Abortion    FAVOR    121   18.529862         355   \n14          Legalization of Abortion     NONE    177   27.105666         355   \n\n    Diff  \n0      0  \n1    212  \n2    187  \n3    197  \n4      0  \n5     44  \n6      0  \n7    118  \n8    202  \n9      0  \n10   275  \n11   215  \n12     0  \n13   234  \n14   178  ",
      "text/html": "<div>\n<style scoped>\n    .dataframe tbody tr th:only-of-type {\n        vertical-align: middle;\n    }\n\n    .dataframe tbody tr th {\n        vertical-align: top;\n    }\n\n    .dataframe thead th {\n        text-align: right;\n    }\n</style>\n<table border=\"1\" class=\"dataframe\">\n  <thead>\n    <tr style=\"text-align: right;\">\n      <th></th>\n      <th>Target</th>\n      <th>Stance</th>\n      <th>Count</th>\n      <th>Percentage</th>\n      <th>Target_Max</th>\n      <th>Diff</th>\n    </tr>\n  </thead>\n  <tbody>\n    <tr>\n      <th>0</th>\n      <td>Atheism</td>\n      <td>AGAINST</td>\n      <td>304</td>\n      <td>59.259259</td>\n      <td>304</td>\n      <td>0</td>\n    </tr>\n    <tr>\n      <th>1</th>\n      <td>Atheism</td>\n      <td>FAVOR</td>\n      <td>92</td>\n      <td>17.933723</td>\n      <td>304</td>\n      <td>212</td>\n    </tr>\n    <tr>\n      <th>2</th>\n      <td>Atheism</td>\n      <td>NONE</td>\n      <td>117</td>\n      <td>22.807018</td>\n      <td>304</td>\n      <td>187</td>\n    </tr>\n    <tr>\n      <th>3</th>\n      <td>Climate Change is a Real Concern</td>\n      <td>AGAINST</td>\n      <td>15</td>\n      <td>3.797468</td>\n      <td>212</td>\n      <td>197</td>\n    </tr>\n    <tr>\n      <th>4</th>\n      <td>Climate Change is a Real Concern</td>\n      <td>FAVOR</td>\n      <td>212</td>\n      <td>53.670886</td>\n      <td>212</td>\n      <td>0</td>\n    </tr>\n    <tr>\n      <th>5</th>\n      <td>Climate Change is a Real Concern</td>\n      <td>NONE</td>\n      <td>168</td>\n      <td>42.531646</td>\n      <td>212</td>\n      <td>44</td>\n    </tr>\n    <tr>\n      <th>6</th>\n      <td>Feminist Movement</td>\n      <td>AGAINST</td>\n      <td>328</td>\n      <td>49.397590</td>\n      <td>328</td>\n      <td>0</td>\n    </tr>\n    <tr>\n      <th>7</th>\n      <td>Feminist Movement</td>\n      <td>FAVOR</td>\n      <td>210</td>\n      <td>31.626506</td>\n      <td>328</td>\n      <td>118</td>\n    </tr>\n    <tr>\n      <th>8</th>\n      <td>Feminist Movement</td>\n      <td>NONE</td>\n      <td>126</td>\n      <td>18.975904</td>\n      <td>328</td>\n      <td>202</td>\n    </tr>\n    <tr>\n      <th>9</th>\n      <td>Hillary Clinton</td>\n      <td>AGAINST</td>\n      <td>393</td>\n      <td>57.039187</td>\n      <td>393</td>\n      <td>0</td>\n    </tr>\n    <tr>\n      <th>10</th>\n      <td>Hillary Clinton</td>\n      <td>FAVOR</td>\n      <td>118</td>\n      <td>17.126270</td>\n      <td>393</td>\n      <td>275</td>\n    </tr>\n    <tr>\n      <th>11</th>\n      <td>Hillary Clinton</td>\n      <td>NONE</td>\n      <td>178</td>\n      <td>25.834543</td>\n      <td>393</td>\n      <td>215</td>\n    </tr>\n    <tr>\n      <th>12</th>\n      <td>Legalization of Abortion</td>\n      <td>AGAINST</td>\n      <td>355</td>\n      <td>54.364472</td>\n      <td>355</td>\n      <td>0</td>\n    </tr>\n    <tr>\n      <th>13</th>\n      <td>Legalization of Abortion</td>\n      <td>FAVOR</td>\n      <td>121</td>\n      <td>18.529862</td>\n      <td>355</td>\n      <td>234</td>\n    </tr>\n    <tr>\n      <th>14</th>\n      <td>Legalization of Abortion</td>\n      <td>NONE</td>\n      <td>177</td>\n      <td>27.105666</td>\n      <td>355</td>\n      <td>178</td>\n    </tr>\n  </tbody>\n</table>\n</div>"
     },
     "execution_count": 40,
     "metadata": {},
     "output_type": "execute_result"
    }
   ],
   "source": [
    "df_grouped['Target_Max'] = df_grouped.groupby('Target')['Count'].transform('max')\n",
    "df_grouped['Diff'] = df_grouped[\"Target_Max\"] - df_grouped[\"Count\"]\n",
    "df_grouped"
   ],
   "metadata": {
    "collapsed": false,
    "ExecuteTime": {
     "end_time": "2023-10-07T17:45:33.927169Z",
     "start_time": "2023-10-07T17:45:33.896842Z"
    }
   },
   "id": "a55f69e5e1da1392"
  },
  {
   "cell_type": "code",
   "execution_count": 63,
   "outputs": [
    {
     "data": {
      "text/plain": "      index                                              Tweet  \\\n597     597  Impressed with the nice Tunisians. Not impress...   \n202     202  You can't think by yourself about life and bel...   \n476     476  How did the crucifixion of #Christ lead the wo...   \n394     394  Religious leader's pay depends on convincing y...   \n406     406  @AmyMek The establishment clause sets our coun...   \n...     ...                                                ...   \n2664   2668  Equality in the states is a nice step forward ...   \n2318   2319  Someone snitched on the mom having sex with an...   \n2825   2829  SCOTUS has caused more repression and racism i...   \n96       96  @Docjp Pressure? It's their job and they are f...   \n2662   2666      Now the matter of abortion comes next. #SemST   \n\n                        Target Stance  \\\n597                    Atheism  FAVOR   \n202                    Atheism  FAVOR   \n476                    Atheism  FAVOR   \n394                    Atheism  FAVOR   \n406                    Atheism  FAVOR   \n...                        ...    ...   \n2664  Legalization of Abortion   NONE   \n2318  Legalization of Abortion   NONE   \n2825  Legalization of Abortion   NONE   \n96    Legalization of Abortion   NONE   \n2662  Legalization of Abortion   NONE   \n\n                                            Hashtag    Mention  \\\n597                              [#remembertunisia]         []   \n202                                              []         []   \n476   [#Christ, #salvation, #DarkAges, #skepticism]         []   \n394                                  [#freethinker]         []   \n406                                              []  [@AmyMek]   \n...                                             ...        ...   \n2664                                 [#ProudToLove]         []   \n2318                                             []         []   \n2825                        [#DredScott, #Marriage]         []   \n96             [#GOP, #PJNET, #Amnesty, #Obamacare]   [@Docjp]   \n2662                                             []         []   \n\n                                        Tokenized_Tweet  \\\n597   [Impressed, with, the, nice, Tunisians, Not, i...   \n202   [You, can't, think, by, yourself, about, life,...   \n476   [How, did, the, crucifixion, of, lead, the, wo...   \n394   [Religious, leader's, pay, depends, on, convin...   \n406   [The, establishment, clause, sets, our, countr...   \n...                                                 ...   \n2664  [Equality, in, the, states, is, a, nice, step,...   \n2318  [Someone, snitched, on, the, mom, having, sex,...   \n2825  [SCOTUS, has, caused, more, repression, and, r...   \n96    [Pressure, It's, their, job, and, they, are, f...   \n2662      [Now, the, matter, of, abortion, comes, next]   \n\n                  Tokenized_Target                           Tokenized_Hashtag  \n597                      [Atheism]                           [remembertunisia]  \n202                      [Atheism]                                          []  \n476                      [Atheism]  [christ, salvation, dark ages, skepticism]  \n394                      [Atheism]                               [freethinker]  \n406                      [Atheism]                                          []  \n...                            ...                                         ...  \n2664  [Legalization, of, Abortion]                             [proud to love]  \n2318  [Legalization, of, Abortion]                                          []  \n2825  [Legalization, of, Abortion]                      [dred scott, marriage]  \n96    [Legalization, of, Abortion]            [gop, pjnet, amnesty, obamacare]  \n2662  [Legalization, of, Abortion]                                          []  \n\n[1862 rows x 9 columns]",
      "text/html": "<div>\n<style scoped>\n    .dataframe tbody tr th:only-of-type {\n        vertical-align: middle;\n    }\n\n    .dataframe tbody tr th {\n        vertical-align: top;\n    }\n\n    .dataframe thead th {\n        text-align: right;\n    }\n</style>\n<table border=\"1\" class=\"dataframe\">\n  <thead>\n    <tr style=\"text-align: right;\">\n      <th></th>\n      <th>index</th>\n      <th>Tweet</th>\n      <th>Target</th>\n      <th>Stance</th>\n      <th>Hashtag</th>\n      <th>Mention</th>\n      <th>Tokenized_Tweet</th>\n      <th>Tokenized_Target</th>\n      <th>Tokenized_Hashtag</th>\n    </tr>\n  </thead>\n  <tbody>\n    <tr>\n      <th>597</th>\n      <td>597</td>\n      <td>Impressed with the nice Tunisians. Not impress...</td>\n      <td>Atheism</td>\n      <td>FAVOR</td>\n      <td>[#remembertunisia]</td>\n      <td>[]</td>\n      <td>[Impressed, with, the, nice, Tunisians, Not, i...</td>\n      <td>[Atheism]</td>\n      <td>[remembertunisia]</td>\n    </tr>\n    <tr>\n      <th>202</th>\n      <td>202</td>\n      <td>You can't think by yourself about life and bel...</td>\n      <td>Atheism</td>\n      <td>FAVOR</td>\n      <td>[]</td>\n      <td>[]</td>\n      <td>[You, can't, think, by, yourself, about, life,...</td>\n      <td>[Atheism]</td>\n      <td>[]</td>\n    </tr>\n    <tr>\n      <th>476</th>\n      <td>476</td>\n      <td>How did the crucifixion of #Christ lead the wo...</td>\n      <td>Atheism</td>\n      <td>FAVOR</td>\n      <td>[#Christ, #salvation, #DarkAges, #skepticism]</td>\n      <td>[]</td>\n      <td>[How, did, the, crucifixion, of, lead, the, wo...</td>\n      <td>[Atheism]</td>\n      <td>[christ, salvation, dark ages, skepticism]</td>\n    </tr>\n    <tr>\n      <th>394</th>\n      <td>394</td>\n      <td>Religious leader's pay depends on convincing y...</td>\n      <td>Atheism</td>\n      <td>FAVOR</td>\n      <td>[#freethinker]</td>\n      <td>[]</td>\n      <td>[Religious, leader's, pay, depends, on, convin...</td>\n      <td>[Atheism]</td>\n      <td>[freethinker]</td>\n    </tr>\n    <tr>\n      <th>406</th>\n      <td>406</td>\n      <td>@AmyMek The establishment clause sets our coun...</td>\n      <td>Atheism</td>\n      <td>FAVOR</td>\n      <td>[]</td>\n      <td>[@AmyMek]</td>\n      <td>[The, establishment, clause, sets, our, countr...</td>\n      <td>[Atheism]</td>\n      <td>[]</td>\n    </tr>\n    <tr>\n      <th>...</th>\n      <td>...</td>\n      <td>...</td>\n      <td>...</td>\n      <td>...</td>\n      <td>...</td>\n      <td>...</td>\n      <td>...</td>\n      <td>...</td>\n      <td>...</td>\n    </tr>\n    <tr>\n      <th>2664</th>\n      <td>2668</td>\n      <td>Equality in the states is a nice step forward ...</td>\n      <td>Legalization of Abortion</td>\n      <td>NONE</td>\n      <td>[#ProudToLove]</td>\n      <td>[]</td>\n      <td>[Equality, in, the, states, is, a, nice, step,...</td>\n      <td>[Legalization, of, Abortion]</td>\n      <td>[proud to love]</td>\n    </tr>\n    <tr>\n      <th>2318</th>\n      <td>2319</td>\n      <td>Someone snitched on the mom having sex with an...</td>\n      <td>Legalization of Abortion</td>\n      <td>NONE</td>\n      <td>[]</td>\n      <td>[]</td>\n      <td>[Someone, snitched, on, the, mom, having, sex,...</td>\n      <td>[Legalization, of, Abortion]</td>\n      <td>[]</td>\n    </tr>\n    <tr>\n      <th>2825</th>\n      <td>2829</td>\n      <td>SCOTUS has caused more repression and racism i...</td>\n      <td>Legalization of Abortion</td>\n      <td>NONE</td>\n      <td>[#DredScott, #Marriage]</td>\n      <td>[]</td>\n      <td>[SCOTUS, has, caused, more, repression, and, r...</td>\n      <td>[Legalization, of, Abortion]</td>\n      <td>[dred scott, marriage]</td>\n    </tr>\n    <tr>\n      <th>96</th>\n      <td>96</td>\n      <td>@Docjp Pressure? It's their job and they are f...</td>\n      <td>Legalization of Abortion</td>\n      <td>NONE</td>\n      <td>[#GOP, #PJNET, #Amnesty, #Obamacare]</td>\n      <td>[@Docjp]</td>\n      <td>[Pressure, It's, their, job, and, they, are, f...</td>\n      <td>[Legalization, of, Abortion]</td>\n      <td>[gop, pjnet, amnesty, obamacare]</td>\n    </tr>\n    <tr>\n      <th>2662</th>\n      <td>2666</td>\n      <td>Now the matter of abortion comes next. #SemST</td>\n      <td>Legalization of Abortion</td>\n      <td>NONE</td>\n      <td>[]</td>\n      <td>[]</td>\n      <td>[Now, the, matter, of, abortion, comes, next]</td>\n      <td>[Legalization, of, Abortion]</td>\n      <td>[]</td>\n    </tr>\n  </tbody>\n</table>\n<p>1862 rows × 9 columns</p>\n</div>"
     },
     "execution_count": 63,
     "metadata": {},
     "output_type": "execute_result"
    }
   ],
   "source": [
    "df_random_record = pd.DataFrame()\n",
    "for index, row in df_grouped.iterrows():\n",
    "    df_temp = df_tokenized[(df_tokenized['Target'] == row['Target']) & (df_tokenized['Stance'] == row['Stance'])]\n",
    "    random_record = df_temp.sample(n=row['Diff'], replace=True)\n",
    "    df_random_record = pd.concat([df_random_record, random_record], axis=0)\n",
    "df_random_record"
   ],
   "metadata": {
    "collapsed": false,
    "ExecuteTime": {
     "end_time": "2023-10-07T18:15:27.850492Z",
     "start_time": "2023-10-07T18:15:27.802514Z"
    }
   },
   "id": "f5c98a2b3e41f904"
  },
  {
   "cell_type": "code",
   "execution_count": 73,
   "outputs": [
    {
     "name": "stdout",
     "output_type": "stream",
     "text": [
      "<class 'list'>\n",
      "Impressed with the nice Tunisians Not impressed with religion a major cause of so much heartache death\n"
     ]
    }
   ],
   "source": [
    "df_random_record['Augmented_Tweet'] = df_random_record['Tokenized_Tweet'].apply(lambda x: \" \".join(x)).apply(lambda x: aug.augment(x)[0])\n",
    "df_random_record.head()"
   ],
   "metadata": {
    "collapsed": false,
    "ExecuteTime": {
     "end_time": "2023-10-07T18:20:35.085418Z",
     "start_time": "2023-10-07T18:20:35.042419Z"
    }
   },
   "id": "55c2f52634c6cbed"
  },
  {
   "cell_type": "code",
   "execution_count": null,
   "outputs": [],
   "source": [
    "tokenized_aug_tweets = tokenize_series(df_random_record['Augmented_Tweet'])\n",
    "filtered_aug_tweets = [filter_single_punctuation(tokens) for tokens in tokenized_aug_tweets]\n",
    "aug_hashtags, aug_mentions, aug_normal_words = extract_hashtag_mentions(filtered_aug_tweets)"
   ],
   "metadata": {
    "collapsed": false
   },
   "id": "d6d24f8ac25b0093"
  },
  {
   "cell_type": "code",
   "execution_count": null,
   "outputs": [],
   "source": [
    "df_random_record_copy = df_random_record.copy(deep=True)\n",
    "df_random_record_copy = df_random_record_copy.reset_index(drop=True)\n",
    "df_random_record_copy['Tokenized_Tweet'] = pd.Series(aug_normal_words)\n",
    "\n",
    "df_random_record_copy = df_random_record_copy.drop(['index', 'Augmented_Tweet'], axis=1)\n",
    "df_random_record_copy"
   ],
   "metadata": {
    "collapsed": false
   },
   "id": "124ccefaf3fa339b"
  },
  {
   "cell_type": "markdown",
   "source": [
    "## 6. Apply lower case to all tokens \n",
    "for word embedding"
   ],
   "metadata": {
    "collapsed": false
   },
   "id": "37c76cb29f66542d"
  },
  {
   "cell_type": "code",
   "execution_count": 76,
   "outputs": [],
   "source": [
    "EMBED_INPUT_NAMES = ['Tokenized_Tweet', 'Tokenized_Hashtag', 'Tokenized_Target']"
   ],
   "metadata": {
    "collapsed": false,
    "ExecuteTime": {
     "end_time": "2023-10-07T20:11:49.773201Z",
     "start_time": "2023-10-07T20:11:49.737065Z"
    }
   },
   "id": "3abacfe7e6a55502"
  },
  {
   "cell_type": "code",
   "execution_count": 77,
   "outputs": [
    {
     "data": {
      "text/plain": "   index                                              Tweet           Target  \\\n0      0  @tedcruz And, #HandOverTheServer she wiped cle...  Hillary Clinton   \n1      1  Hillary is our best choice if we truly want to...  Hillary Clinton   \n2      2  @TheView I think our country is ready for a fe...  Hillary Clinton   \n3      3  I just gave an unhealthy amount of my hard-ear...  Hillary Clinton   \n4      4  @PortiaABoulger Thank you for adding me to you...  Hillary Clinton   \n\n    Stance                                 Hashtag            Mention  \\\n0  AGAINST  [#HandOverTheServer, #Benghazi, #tcot]         [@tedcruz]   \n1    FAVOR                                 [#Ohio]                 []   \n2  AGAINST                                      []         [@TheView]   \n3  AGAINST             [#WhyImNotVotingForHillary]                 []   \n4     NONE                                      []  [@PortiaABoulger]   \n\n                                     Tokenized_Tweet    Tokenized_Target  \\\n0  [and, she, wiped, clean, 30k, deleted, emails,...  [hillary, clinton]   \n1  [hillary, is, our, best, choice, if, we, truly...  [hillary, clinton]   \n2  [i, think, our, country, is, ready, for, a, fe...  [hillary, clinton]   \n3  [i, just, gave, an, unhealthy, amount, of, my,...  [hillary, clinton]   \n4      [thank, you, for, adding, me, to, your, list]  [hillary, clinton]   \n\n                        Tokenized_Hashtag  \\\n0  [hand over the server, benghazi, tcot]   \n1                                  [ohio]   \n2                                      []   \n3         [why im not voting for hillary]   \n4                                      []   \n\n                                Tokenized_Tweet_join  \n0  And she wiped clean 30k deleted emails explain...  \n1  Hillary is our best choice if we truly want to...  \n2  I think our country is ready for a female pres...  \n3  I just gave an unhealthy amount of my hard-ear...  \n4               Thank you for adding me to your list  ",
      "text/html": "<div>\n<style scoped>\n    .dataframe tbody tr th:only-of-type {\n        vertical-align: middle;\n    }\n\n    .dataframe tbody tr th {\n        vertical-align: top;\n    }\n\n    .dataframe thead th {\n        text-align: right;\n    }\n</style>\n<table border=\"1\" class=\"dataframe\">\n  <thead>\n    <tr style=\"text-align: right;\">\n      <th></th>\n      <th>index</th>\n      <th>Tweet</th>\n      <th>Target</th>\n      <th>Stance</th>\n      <th>Hashtag</th>\n      <th>Mention</th>\n      <th>Tokenized_Tweet</th>\n      <th>Tokenized_Target</th>\n      <th>Tokenized_Hashtag</th>\n      <th>Tokenized_Tweet_join</th>\n    </tr>\n  </thead>\n  <tbody>\n    <tr>\n      <th>0</th>\n      <td>0</td>\n      <td>@tedcruz And, #HandOverTheServer she wiped cle...</td>\n      <td>Hillary Clinton</td>\n      <td>AGAINST</td>\n      <td>[#HandOverTheServer, #Benghazi, #tcot]</td>\n      <td>[@tedcruz]</td>\n      <td>[and, she, wiped, clean, 30k, deleted, emails,...</td>\n      <td>[hillary, clinton]</td>\n      <td>[hand over the server, benghazi, tcot]</td>\n      <td>And she wiped clean 30k deleted emails explain...</td>\n    </tr>\n    <tr>\n      <th>1</th>\n      <td>1</td>\n      <td>Hillary is our best choice if we truly want to...</td>\n      <td>Hillary Clinton</td>\n      <td>FAVOR</td>\n      <td>[#Ohio]</td>\n      <td>[]</td>\n      <td>[hillary, is, our, best, choice, if, we, truly...</td>\n      <td>[hillary, clinton]</td>\n      <td>[ohio]</td>\n      <td>Hillary is our best choice if we truly want to...</td>\n    </tr>\n    <tr>\n      <th>2</th>\n      <td>2</td>\n      <td>@TheView I think our country is ready for a fe...</td>\n      <td>Hillary Clinton</td>\n      <td>AGAINST</td>\n      <td>[]</td>\n      <td>[@TheView]</td>\n      <td>[i, think, our, country, is, ready, for, a, fe...</td>\n      <td>[hillary, clinton]</td>\n      <td>[]</td>\n      <td>I think our country is ready for a female pres...</td>\n    </tr>\n    <tr>\n      <th>3</th>\n      <td>3</td>\n      <td>I just gave an unhealthy amount of my hard-ear...</td>\n      <td>Hillary Clinton</td>\n      <td>AGAINST</td>\n      <td>[#WhyImNotVotingForHillary]</td>\n      <td>[]</td>\n      <td>[i, just, gave, an, unhealthy, amount, of, my,...</td>\n      <td>[hillary, clinton]</td>\n      <td>[why im not voting for hillary]</td>\n      <td>I just gave an unhealthy amount of my hard-ear...</td>\n    </tr>\n    <tr>\n      <th>4</th>\n      <td>4</td>\n      <td>@PortiaABoulger Thank you for adding me to you...</td>\n      <td>Hillary Clinton</td>\n      <td>NONE</td>\n      <td>[]</td>\n      <td>[@PortiaABoulger]</td>\n      <td>[thank, you, for, adding, me, to, your, list]</td>\n      <td>[hillary, clinton]</td>\n      <td>[]</td>\n      <td>Thank you for adding me to your list</td>\n    </tr>\n  </tbody>\n</table>\n</div>"
     },
     "execution_count": 77,
     "metadata": {},
     "output_type": "execute_result"
    }
   ],
   "source": [
    "def lowercase_array(arr):\n",
    "    return np.asarray([s.lower() for s in arr])\n",
    "\n",
    "for input_name in EMBED_INPUT_NAMES:\n",
    "    df_tokenized[input_name] = df_tokenized[[input_name]].applymap(lowercase_array)\n",
    "    \n",
    "df_tokenized.head()"
   ],
   "metadata": {
    "collapsed": false,
    "ExecuteTime": {
     "end_time": "2023-10-07T20:11:51.161077Z",
     "start_time": "2023-10-07T20:11:51.121263Z"
    }
   },
   "id": "e4b560fd04b96c1"
  },
  {
   "cell_type": "markdown",
   "source": [
    "Both augmented original and tokenized tweet seems doesn't make much sense. The augmented original tweet has an important issue that it tokenized the mentions and hashtags and tried to augment them. Also, the symbols of '@' & '#' are separated with the text after augmented. Therefore, augment tokenized tweet is chosen and no hashtag nor mention will be augmented."
   ],
   "metadata": {
    "collapsed": false
   },
   "id": "870b8867ee2a2597"
  },
  {
   "cell_type": "markdown",
   "source": [
    "## 7. Word Index"
   ],
   "metadata": {
    "collapsed": false
   },
   "id": "c33ba9452c1ee1b"
  },
  {
   "cell_type": "code",
   "execution_count": 78,
   "outputs": [],
   "source": [
    "def create_word_index(words):\n",
    "    word_index = {}\n",
    "    index = 1 # 0 for empty value\n",
    "    \n",
    "    for word in words:\n",
    "        if word not in word_index:\n",
    "            word_index[index] = word\n",
    "            index += 1\n",
    "        \n",
    "    return word_index"
   ],
   "metadata": {
    "collapsed": false,
    "ExecuteTime": {
     "end_time": "2023-10-07T20:12:01.459245Z",
     "start_time": "2023-10-07T20:12:01.430809Z"
    }
   },
   "id": "d961613ecd13122c"
  },
  {
   "cell_type": "code",
   "execution_count": 79,
   "outputs": [
    {
     "name": "stdout",
     "output_type": "stream",
     "text": [
      "Length of distinct Tokenized_Tweet: 6787\n",
      "Length of distinct Tokenized_Hashtag: 2009\n",
      "Length of distinct Tokenized_Target: 15\n"
     ]
    }
   ],
   "source": [
    "ALL_WORD_INDEX = {}\n",
    "for input_name in EMBED_INPUT_NAMES:\n",
    "    tokens = []\n",
    "    [tokens.extend(arr) for arr in df_tokenized[input_name]]\n",
    "    word_index = create_word_index(set(tokens))\n",
    "    ALL_WORD_INDEX[input_name] = word_index\n",
    "\n",
    "    print(f'Length of distinct {input_name}: {len(word_index)+1}')"
   ],
   "metadata": {
    "collapsed": false,
    "ExecuteTime": {
     "end_time": "2023-10-07T20:12:03.176400Z",
     "start_time": "2023-10-07T20:12:03.140255Z"
    }
   },
   "id": "22fcc17186fc2b40"
  },
  {
   "cell_type": "code",
   "execution_count": null,
   "outputs": [],
   "source": [
    "def max_array_length(arrays):\n",
    "    return max((len(arr) for arr in arrays), default=0)"
   ],
   "metadata": {
    "collapsed": false
   },
   "id": "28d8128b1f7d9296"
  },
  {
   "cell_type": "code",
   "execution_count": null,
   "outputs": [],
   "source": [
    "ALL_INPUT_MAX_LENGTHS = {}\n",
    "for input_name in EMBED_INPUT_NAMES:\n",
    "    ALL_INPUT_MAX_LENGTHS[input_name] = max_array_length(df_tokenized[input_name])\n",
    "\n",
    "print(f'Max length of : {ALL_INPUT_MAX_LENGTHS}]')"
   ],
   "metadata": {
    "collapsed": false
   },
   "id": "b853f2e87e4f1c84"
  },
  {
   "cell_type": "code",
   "execution_count": null,
   "outputs": [],
   "source": [
    "def pad_sequence(arr, word_index, max_length):\n",
    "    return_arr = np.zeros(max_length, dtype=int)\n",
    "    for i, word in enumerate(arr):\n",
    "        for key, value in word_index.items():\n",
    "            if value == word:\n",
    "                return_arr[i] = key\n",
    "    return return_arr\n",
    "\n",
    "for input_name in EMBED_INPUT_NAMES:\n",
    "    df_tokenized['Pad_'+input_name] = df_tokenized[[input_name]].applymap(lambda arr: pad_sequence(arr, ALL_WORD_INDEX[input_name], ALL_INPUT_MAX_LENGTHS[input_name]))\n",
    "# df_tokenized['Pad_'+'Tokenized_Target'] = df_tokenized['Tokenized_Target'].apply(lambda arr: pad_sequence(arr, ALL_WORD_INDEX['Tokenized_Target']))\n",
    "df_tokenized.head()"
   ],
   "metadata": {
    "collapsed": false
   },
   "id": "eac4a2e901d1575c"
  },
  {
   "cell_type": "markdown",
   "source": [
    "## 7. Encoding Stance"
   ],
   "metadata": {
    "collapsed": false
   },
   "id": "ac2c28f14fa6c5bf"
  },
  {
   "cell_type": "code",
   "execution_count": null,
   "outputs": [],
   "source": [
    "stance_encoder = OneHotEncoder(sparse_output=False, dtype=int)\n",
    "\n",
    "encoded_categories = stance_encoder.fit_transform(df_tokenized[['Stance']])\n",
    "df_encoded_stance = pd.DataFrame(encoded_categories, columns=stance_encoder.get_feature_names_out(['Stance']))\n",
    "\n",
    "df_train = pd.concat([df_tokenized, df_encoded_stance], axis=1)\n",
    "df_train.head()"
   ],
   "metadata": {
    "collapsed": false
   },
   "id": "3beefa0489f888c4"
  },
  {
   "cell_type": "markdown",
   "source": [
    "# Data Splitting"
   ],
   "metadata": {
    "collapsed": false
   },
   "id": "b3930f233730b449"
  },
  {
   "cell_type": "code",
   "execution_count": null,
   "outputs": [],
   "source": [
    "df_train['Target_Stance'] = df_train\n",
    "\n",
    "X_stacked = np.hstack((np.array(df_train['Pad_Tokenized_Tweet'].tolist()), np.array(df_train['Pad_Tokenized_Hashtag'].tolist()), np.array(df_train['Pad_Tokenized_Target'].tolist())))\n",
    "\n",
    "X_train, X_val, y_train, y_val = train_test_split(X_stacked, df_train[['Stance_AGAINST', 'Stance_FAVOR','Stance_NONE']], test_size=0.3, random_state=1)\n"
   ],
   "metadata": {
    "collapsed": false
   },
   "id": "30f026c968bf2678"
  },
  {
   "cell_type": "code",
   "execution_count": null,
   "outputs": [],
   "source": [
    "X_train_tweet = X_train[:, :ALL_INPUT_MAX_LENGTHS['Tokenized_Tweet']]\n",
    "X_train_hashtag = X_train[:, ALL_INPUT_MAX_LENGTHS['Tokenized_Tweet'] : (ALL_INPUT_MAX_LENGTHS['Tokenized_Tweet'] + ALL_INPUT_MAX_LENGTHS['Tokenized_Hashtag'])]\n",
    "X_train_target = X_train[:, ALL_INPUT_MAX_LENGTHS['Tokenized_Tweet'] + ALL_INPUT_MAX_LENGTHS['Tokenized_Hashtag']:]\n",
    "\n",
    "X_val_tweet = X_val[:, :ALL_INPUT_MAX_LENGTHS['Tokenized_Tweet']]\n",
    "X_val_hashtag = X_val[:, ALL_INPUT_MAX_LENGTHS['Tokenized_Tweet'] : (ALL_INPUT_MAX_LENGTHS['Tokenized_Tweet'] + ALL_INPUT_MAX_LENGTHS['Tokenized_Hashtag'])]\n",
    "X_val_target = X_val[:, ALL_INPUT_MAX_LENGTHS['Tokenized_Tweet'] + ALL_INPUT_MAX_LENGTHS['Tokenized_Hashtag']:]"
   ],
   "metadata": {
    "collapsed": false
   },
   "id": "645ff68970727953"
  },
  {
   "cell_type": "markdown",
   "source": [
    "# Transfer Learning\n",
    "## Tranfomer\n",
    "### 1. BERT - Bidirectional Encoder Representations from Transformers\n",
    "Sth about BERT\n",
    "\n",
    "## Word Embedding\n",
    "\n",
    "There are serval choices of word embedding to choose. E.g. GloVe, Word2Vec and Fasttext. Here we compare Fasttext with GloVe. "
   ],
   "metadata": {
    "collapsed": false
   },
   "id": "acc6ce70c94af1c4"
  },
  {
   "cell_type": "markdown",
   "source": [
    "### 1. Fasttext"
   ],
   "metadata": {
    "collapsed": false
   },
   "id": "8ed06eebf2b0993a"
  },
  {
   "cell_type": "code",
   "execution_count": null,
   "outputs": [],
   "source": [
    "# Load FastText word embeddings (change the path to your embeddings file)\n",
    "fasttext.util.download_model('en', if_exists='ignore')  # Download English model\n",
    "ft = fasttext.load_model('crawl-300d-2M-subword/crawl-300d-2M-subword.bin')  # Load FastText model\n",
    "EMBEDDING_DIM = 300  # FastText embeddings dimension"
   ],
   "metadata": {
    "collapsed": false
   },
   "id": "7ecf15b7babb1195"
  },
  {
   "cell_type": "code",
   "execution_count": null,
   "outputs": [],
   "source": [
    "not_existing_word = \"foundationscandal\"\n",
    "print(f'Fasttext embedding of a not existing word ({not_existing_word}): {ft.get_word_vector(not_existing_word)}')"
   ],
   "metadata": {
    "collapsed": false
   },
   "id": "aed33c1f9878fefd"
  },
  {
   "cell_type": "markdown",
   "source": [
    "### 2. GloVe"
   ],
   "metadata": {
    "collapsed": false
   },
   "id": "4f7edae3c2007607"
  },
  {
   "cell_type": "code",
   "execution_count": null,
   "outputs": [],
   "source": [
    "file = open('glove.6B.100d.txt', encoding='utf-8')\n",
    "\n",
    "glove_vectors = dict()\n",
    "for line in file:\n",
    "  values = line.split()\n",
    "  word = values[0]\n",
    "  features = np.asarray(values[1:])\n",
    "  glove_vectors[word] = features\n",
    "\n",
    "file.close()"
   ],
   "metadata": {
    "collapsed": false
   },
   "id": "4b05eb19f7b159ef"
  },
  {
   "cell_type": "code",
   "execution_count": null,
   "outputs": [],
   "source": [
    "print(f'GloVe embedding of a not existing word ({not_existing_word}): {glove_vectors.get(not_existing_word)}')"
   ],
   "metadata": {
    "collapsed": false
   },
   "id": "c29021af11c99cac"
  },
  {
   "cell_type": "markdown",
   "source": [
    "Fasttext can return a vector for out-of-vocabulary word. It could be better representation in analysing data from social media which may have slang, \"new\" words and misspelling words. However, GloVe and Word2Vec cannot provide any representation vector if the word does not exist in their corpus."
   ],
   "metadata": {
    "collapsed": false
   },
   "id": "1742f44c26d6f1a7"
  },
  {
   "cell_type": "markdown",
   "source": [
    "#### Applying Fasttext"
   ],
   "metadata": {
    "collapsed": false
   },
   "id": "21694b2bb2b1e659"
  },
  {
   "cell_type": "code",
   "execution_count": null,
   "outputs": [],
   "source": [
    "def create_embedding(df, input_name):\n",
    "    embedding = [np.zeros(EMBEDDING_DIM)] # init a 0 vector for empty value\n",
    "    all_tokens = np.concatenate(df[input_name].values)\n",
    "    print(f'no. of distinct {input_name}: {len(set(all_tokens))}')\n",
    "    for idx, token in enumerate(set(all_tokens)):\n",
    "        embedding.append(ft.get_word_vector(token))\n",
    "    return np.array(embedding)\n",
    "    \n",
    "def create_embeddings_for_model(df, input_names = EMBED_INPUT_NAMES):\n",
    "    embedding_dict = {}\n",
    "    for input_name in input_names:\n",
    "        embedding_dict[input_name] = create_embedding(df, input_name)\n",
    "    return embedding_dict\n",
    "\n",
    "EMBEDDING_DICT = create_embeddings_for_model(df_tokenized, EMBED_INPUT_NAMES)\n",
    "\n",
    "for input_name in EMBED_INPUT_NAMES:\n",
    "    print(f'Dimension of {input_name}: {EMBEDDING_DICT[input_name].shape}')"
   ],
   "metadata": {
    "collapsed": false
   },
   "id": "5b893a4d118d43c8"
  },
  {
   "cell_type": "markdown",
   "source": [
    "# Modelling\n",
    "## Base Model\n",
    "\n",
    "The base model consists of 3 inputs. They are `Tweet`, `Hashtag` and `Target`. It is a multi-in-single-out model.\n",
    "\n",
    "`Tweet` has been removed mentions and hashtags. It will be embedded with Fasttext and pass to two bi-directional LSTM layer. \n",
    "All `Hashtag`s are combined into another input of the model. Although some hashtags is single words, it could be a phrase, and they are split with CamelCase. A bi-directional LSTM and a LSTM are employed.\n",
    "`Target` could be a word or a phrase. There are only 5 targets in the train set and they are not sentences. So, a LSTM could be enough for the model.  "
   ],
   "metadata": {
    "collapsed": false
   },
   "id": "e54c62d6d690061d"
  },
  {
   "cell_type": "code",
   "execution_count": null,
   "outputs": [],
   "source": [
    "input_tweet = Input(shape=(ALL_INPUT_MAX_LENGTHS['Tokenized_Tweet'],), name=\"input_tweet_layer\")\n",
    "tweet_layer = Embedding(len(EMBEDDING_DICT['Tokenized_Tweet']), \n",
    "                        EMBEDDING_DIM,\n",
    "                        weights=[EMBEDDING_DICT['Tokenized_Tweet']],\n",
    "                        input_length=ALL_INPUT_MAX_LENGTHS['Tokenized_Tweet'],\n",
    "                        trainable=False,\n",
    "                        name=\"tweet_embedding_layer\")\n",
    "tweet_embedding = tweet_layer(input_tweet)\n",
    "tweet_embedding = Bidirectional(LSTM(units=128, dropout=0.8, recurrent_dropout=0.8, return_sequences=True), name=\"tweet_LSTM\")(tweet_embedding)\n",
    "tweet_embedding = Bidirectional(LSTM(units=64, dropout=0.8, recurrent_dropout=0.8, return_sequences=False), name=\"tweet_LSTM_2\")(tweet_embedding)\n",
    "\n",
    "input_hashtag = Input(shape=(ALL_INPUT_MAX_LENGTHS['Tokenized_Hashtag'],), name=\"input_hashtag_layer\")\n",
    "hashtag_layer = Embedding(len(EMBEDDING_DICT['Tokenized_Hashtag']),\n",
    "                          EMBEDDING_DIM,\n",
    "                          weights=[EMBEDDING_DICT['Tokenized_Hashtag']],\n",
    "                          input_length=ALL_INPUT_MAX_LENGTHS['Tokenized_Hashtag'],\n",
    "                          trainable=False,\n",
    "                          name=\"hashtag_embedding_layer\")\n",
    "hashtag_embedding = hashtag_layer(input_hashtag)\n",
    "hashtag_embedding = Bidirectional(LSTM(units=64, dropout=0.8, recurrent_dropout=0.8, return_sequences=True), name=\"hashtag_LSTM\")(hashtag_embedding)\n",
    "hashtag_embedding = LSTM(units=32, dropout=0.8, recurrent_dropout=0.8, return_sequences=False, name=\"hashtag_LSTM_2\")(hashtag_embedding)\n",
    "\n",
    "input_target = Input(shape=(ALL_INPUT_MAX_LENGTHS['Tokenized_Target'],), name=\"input_target_layer\")\n",
    "target_layer = Embedding(len(EMBEDDING_DICT['Tokenized_Target']),\n",
    "                         EMBEDDING_DIM,\n",
    "                         weights=[EMBEDDING_DICT['Tokenized_Target']],\n",
    "                         input_length=ALL_INPUT_MAX_LENGTHS['Tokenized_Target'],\n",
    "                         trainable=False,\n",
    "                         name=\"target_embedding_layer\")\n",
    "target_embedding = target_layer(input_target)\n",
    "target_embedding = LSTM(units=16, dropout=0.8, recurrent_dropout=0.8, return_sequences=False, name=\"target_LSTM\")(target_embedding)\n",
    "\n",
    "model_concat = concatenate([tweet_embedding, hashtag_embedding, target_embedding])\n",
    "model_concat = Flatten()(model_concat)\n",
    "model_concat = tf.keras.layers.Dense(128, activation='relu')(model_concat)\n",
    "model_concat = tf.keras.layers.Dropout(0.5)(model_concat)\n",
    "model_concat = tf.keras.layers.Dense(64, activation='relu')(model_concat)\n",
    "model_concat = tf.keras.layers.Dropout(0.5)(model_concat)\n",
    "model_concat = Dense(3, activation='sigmoid')(model_concat)\n",
    "\n",
    "model = Model(inputs=[input_tweet, input_hashtag, input_target], outputs=model_concat, name=\"model_concat\")\n",
    "\n",
    "# Compile the model\n",
    "model.compile(optimizer='adam', loss='binary_crossentropy', metrics=['accuracy'])\n"
   ],
   "metadata": {
    "collapsed": false
   },
   "id": "dc962c829f937349"
  },
  {
   "cell_type": "code",
   "execution_count": null,
   "outputs": [],
   "source": [
    "keras.utils.plot_model(model, show_shapes=True, show_layer_names=True)\n"
   ],
   "metadata": {
    "collapsed": false
   },
   "id": "517dbdbad68496cb"
  },
  {
   "cell_type": "code",
   "execution_count": null,
   "outputs": [],
   "source": [
    "m_histories = {}\n"
   ],
   "metadata": {
    "collapsed": false
   },
   "id": "d3b01a27aef1cc88"
  },
  {
   "cell_type": "code",
   "execution_count": null,
   "outputs": [],
   "source": [
    "\n",
    "m_histories['base_model'] = model.fit([X_train_tweet, X_train_hashtag, X_train_target], y_train,\n",
    "                                            epochs=60,\n",
    "                                            batch_size = 16,\n",
    "                   validation_data=([X_val_tweet, X_val_hashtag, X_val_target], y_val), \n",
    "                    # validation_steps=30,\n",
    "                    verbose=1, \n",
    "                    # callbacks=get_callbacks('models/base_model')\n",
    ")"
   ],
   "metadata": {
    "collapsed": false
   },
   "id": "43f130845cc8e0d"
  },
  {
   "cell_type": "code",
   "execution_count": null,
   "outputs": [],
   "source": [
    "\n",
    "def plotter(history_hold, metric = 'binary_crossentropy', ylim=[0.0, 1.0]):\n",
    "  cycol = cycle('bgrcmk')\n",
    "  for name, item in history_hold.items():\n",
    "    y_train = item.history[metric]\n",
    "    y_val = item.history['val_' + metric]\n",
    "    x_train = np.arange(0,len(y_val))\n",
    "\n",
    "    c=next(cycol)\n",
    "\n",
    "    plt.plot(x_train, y_train, c+'-', label=name+'_train')\n",
    "    plt.plot(x_train, y_val, c+'--', label=name+'_val')\n",
    "\n",
    "  plt.legend()\n",
    "  plt.xlim([1, max(plt.xlim())])\n",
    "  plt.ylim(ylim)\n",
    "  plt.xlabel('Epoch')\n",
    "  plt.ylabel(metric)\n",
    "  plt.grid(True)"
   ],
   "metadata": {
    "collapsed": false
   },
   "id": "fea6e34c3406be27"
  },
  {
   "cell_type": "code",
   "execution_count": null,
   "outputs": [],
   "source": [
    "plotter(m_histories, ylim=[0.4, 0.8], metric = 'accuracy')"
   ],
   "metadata": {
    "collapsed": false
   },
   "id": "a4139dbfe3e761fe"
  },
  {
   "cell_type": "markdown",
   "source": [
    "## Improve Model"
   ],
   "metadata": {
    "collapsed": false
   },
   "id": "8184659a1a549090"
  },
  {
   "cell_type": "code",
   "execution_count": null,
   "outputs": [],
   "source": [
    "def split_df_by_target(df):\n",
    "    df_dict = {}\n",
    "    distinct_targets = df['Target'].unique().tolist()\n",
    "    for target in distinct_targets:\n",
    "        df_dict[target] = df[df['Target'] == target]\n",
    "    return df_dict\n",
    "\n",
    "def split_df_with_target(df, test_size=0.3, random_state=1):\n",
    "    df_dict = split_df_by_target(df)\n",
    "    X_train, X_val, y_train, y_val = None, None, None, None\n",
    "    for keys in df_dict:\n",
    "        df = df_dict[keys]\n",
    "        X = df[['Pad_Tokenized_Tweet', 'Pad_Tokenized_Hashtag', 'Pad_Tokenized_Target']]\n",
    "        y = df[['Stance_AGAINST', 'Stance_FAVOR','Stance_NONE']]\n",
    "        X_train_t, X_val_t, y_train_t, y_val_t = train_test_split(X, y, test_size=test_size, random_state=random_state)\n",
    "        if X_train is None:\n",
    "            X_train, X_val, y_train, y_val = X_train_t, X_val_t, y_train_t, y_val_t\n",
    "        else:\n",
    "            X_train = pd.concat([X_train, X_train_t])\n",
    "            X_val = pd.concat([X_val, X_val_t])\n",
    "            y_train = pd.concat([y_train, y_train_t])\n",
    "            y_val = pd.concat([y_val, y_val_t])\n",
    "            \n",
    "            X_train.reset_index(drop=True, inplace=True)\n",
    "            X_val.reset_index(drop=True, inplace=True)\n",
    "            y_train.reset_index(drop=True, inplace=True)\n",
    "            y_val.reset_index(drop=True, inplace=True)\n",
    "    return X_train, X_val, y_train, y_val\n",
    "\n",
    "X_train, X_val, y_train, y_val = split_df_with_target(df_train, test_size=0.3, random_state=1)\n",
    "X_train"
   ],
   "metadata": {
    "collapsed": false
   },
   "id": "66808bc43e2b8566"
  },
  {
   "cell_type": "code",
   "execution_count": null,
   "outputs": [],
   "source": [
    "X_train_tweet = np.array(X_train['Pad_Tokenized_Tweet'].tolist())\n",
    "X_train_hashtag = np.array(X_train['Pad_Tokenized_Hashtag'].tolist())\n",
    "X_train_target = np.array(X_train['Pad_Tokenized_Target'].tolist())\n",
    "\n",
    "X_val_tweet = np.array(X_val['Pad_Tokenized_Tweet'].tolist())\n",
    "X_val_hashtag = np.array(X_val['Pad_Tokenized_Hashtag'].tolist())\n",
    "X_val_target = np.array(X_val['Pad_Tokenized_Target'].tolist())\n"
   ],
   "metadata": {
    "collapsed": false
   },
   "id": "8314e5b07d9eae5"
  },
  {
   "cell_type": "code",
   "execution_count": null,
   "outputs": [],
   "source": [
    "m_histories['split_model'] = model.fit([X_train_tweet, X_train_hashtag, X_train_target], y_train,\n",
    "                                            epochs=60,\n",
    "                                            batch_size = 16,\n",
    "                   validation_data=([X_val_tweet, X_val_hashtag, X_val_target], y_val), \n",
    "                    # validation_steps=30,\n",
    "                    verbose=1, \n",
    "                    # callbacks=get_callbacks('models/base_model')\n",
    ")"
   ],
   "metadata": {
    "collapsed": false
   },
   "id": "3c19f4644380d44d"
  },
  {
   "cell_type": "code",
   "execution_count": null,
   "outputs": [],
   "source": [
    "plotter(m_histories, ylim=[0.4, 0.8], metric = 'accuracy')"
   ],
   "metadata": {
    "collapsed": false
   },
   "id": "a1cf098011d7e99c"
  },
  {
   "cell_type": "code",
   "execution_count": null,
   "outputs": [],
   "source": [],
   "metadata": {
    "collapsed": false
   },
   "id": "e5dd96e32ae9cda3"
  },
  {
   "cell_type": "code",
   "execution_count": null,
   "outputs": [],
   "source": [],
   "metadata": {
    "collapsed": false
   },
   "id": "987fe3d9b6597c7"
  },
  {
   "cell_type": "code",
   "execution_count": null,
   "outputs": [],
   "source": [],
   "metadata": {
    "collapsed": false
   },
   "id": "2d8387b446b27b2"
  },
  {
   "cell_type": "markdown",
   "source": [
    "# Test and Ultimate Judgement"
   ],
   "metadata": {
    "collapsed": false
   },
   "id": "c5a372e4a468d737"
  },
  {
   "cell_type": "code",
   "execution_count": null,
   "outputs": [],
   "source": [],
   "metadata": {
    "collapsed": false
   },
   "id": "13d84b704b9c455e"
  },
  {
   "cell_type": "markdown",
   "source": [
    "--------"
   ],
   "metadata": {
    "collapsed": false
   },
   "id": "2418ea11f42665ac"
  },
  {
   "cell_type": "markdown",
   "source": [
    "# Workings"
   ],
   "metadata": {
    "collapsed": false
   },
   "id": "e565ddec526281b8"
  },
  {
   "cell_type": "code",
   "execution_count": null,
   "outputs": [],
   "source": [
    "import numpy as np\n",
    "import matplotlib.pyplot as plt\n",
    "from sklearn.manifold import TSNE\n",
    "\n",
    "# Sample word vectors (replace with your own)\n",
    "word_vectors = {\n",
    "    'benghazi': glove_vectors.get(\"King\"),\n",
    "    # 'Benghazi': glove_vectors.get(\"Benghazi\"),\n",
    "    'libya': glove_vectors.get(\"king\"),\n",
    "    'apple': glove_vectors.get(\"apple\"),\n",
    "    \n",
    "}\n",
    "\n",
    "# Select the words you want to visualize\n",
    "words_to_visualize = ['king', 'queen', 'man', 'woman', 'apple']\n",
    "\n",
    "# Extract word vectors for the selected words\n",
    "word_vectors_to_visualize = np.array([word_vectors[word] for word in word_vectors.keys()])\n",
    "\n",
    "# Apply t-SNE to reduce dimensions to 2D\n",
    "tsne = TSNE(n_components=2, perplexity=1, random_state=42)\n",
    "word_vectors_2D = tsne.fit_transform(word_vectors_to_visualize)\n",
    "\n",
    "# Create a scatter plot\n",
    "plt.figure(figsize=(10, 6))\n",
    "plt.scatter(word_vectors_2D[:, 0], word_vectors_2D[:, 1], marker='o')\n",
    "\n",
    "# Add labels for each point\n",
    "for i, word in enumerate(word_vectors.keys()):\n",
    "    plt.annotate(word, (word_vectors_2D[i, 0], word_vectors_2D[i, 1]))\n",
    "\n",
    "plt.title('Word Vector Visualization using t-SNE')\n",
    "plt.show()\n"
   ],
   "metadata": {
    "collapsed": false
   },
   "id": "100b123214ca4da4"
  }
 ],
 "metadata": {
  "kernelspec": {
   "display_name": "Python 3",
   "language": "python",
   "name": "python3"
  },
  "language_info": {
   "codemirror_mode": {
    "name": "ipython",
    "version": 2
   },
   "file_extension": ".py",
   "mimetype": "text/x-python",
   "name": "python",
   "nbconvert_exporter": "python",
   "pygments_lexer": "ipython2",
   "version": "2.7.6"
  }
 },
 "nbformat": 4,
 "nbformat_minor": 5
}
